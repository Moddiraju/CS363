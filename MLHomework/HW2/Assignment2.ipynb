{
 "cells": [
  {
   "cell_type": "markdown",
   "metadata": {},
   "source": [
    "#### This assignment may be worked individually or in pairs. Enter your name/s here:\n",
    "    "
   ]
  },
  {
   "cell_type": "code",
   "execution_count": 578,
   "metadata": {
    "scrolled": true
   },
   "outputs": [],
   "source": [
    "# Manojwal Oddiraju; mo24776"
   ]
  },
  {
   "cell_type": "markdown",
   "metadata": {
    "collapsed": true,
    "jupyter": {
     "outputs_hidden": true
    }
   },
   "source": [
    "# Assignment 2: Decision Trees\n",
    "\n",
    "In this assignment we'll implement the Decision Tree algorithm to classify patients as either having or not having diabetic retinopathy. For this task we'll be using the Diabetic Retinopathy data set, which contains features from the Messidor image set to predict whether an image contains signs of diabetic retinopathy or not. This dataset has `1150` instances and `20` attributes (some categorical, some continuous). You can find additional details about the dataset [here](http://archive.ics.uci.edu/ml/datasets/Diabetic+Retinopathy+Debrecen+Data+Set)."
   ]
  },
  {
   "cell_type": "markdown",
   "metadata": {},
   "source": [
    "Attribute Information:\n",
    "\n",
    "    0) The binary result of quality assessment. 0=bad quality 1=sufficient quality.\n",
    "\n",
    "    1) The binary result of pre-screening, where 1 indicates severe retinal abnormality and 0 its lack. \n",
    "\n",
    "    2-7) The results of MA detection. Each feature value stand for the number of MAs found at the confidence levels alpha = 0.5, . . . , 1, respectively. \n",
    "\n",
    "    8-15) Contains the same information as 2-7, but for exudates. However, as exudates are represented by a set of points rather than the number of pixels constructing the lesions, these features are normalized by dividing the number of lesions with the diameter of the region of interest (ROI) to compensate for different image sizes. \n",
    "\n",
    "    16) The euclidean distance between the center of the macula and the center of the optic disc. This feature is also normalized with the diameter of the ROI.\n",
    "\n",
    "    17) The diameter of the optic disc. \n",
    "\n",
    "    18) Result of the AM/FM-based (amplitude-modulation frequency-modulation) imaging. 0=normal and 1=abnormal.\n",
    "\n",
    "    19) Class label. 1 = contains signs of Diabetic Retinopathy, 0 = no signs of Diabetic Retinopathy."
   ]
  },
  {
   "cell_type": "markdown",
   "metadata": {},
   "source": [
    "#### Implementation: \n",
    "The function prototypes are given to you, please don't change these. You can add additional helper functions if needed. \n",
    "\n",
    "*Suggestion:* The dataset is substantially big, for the purpose of easy debugging, work with a subset of the data and test your decision tree implementation on that.\n",
    "\n",
    "#### Notes:\n",
    "Parts of this assignment will be **autograded** so a couple of caveats :-\n",
    "- Entropy is calculated using log with base 2, `math.log2(x)`.\n",
    "- For continuous features ensure that the threshold value lies exactly between 2 values. For example, if for feature 2 the best split occurs between 10 and 15 then the threshold value will be set as 12.5. For binary features [0/1] the threshold value will be 0.5.\n",
    "- All values < `thresh_val` go to the left child and all values >= `thresh_val` go to the right child."
   ]
  },
  {
   "cell_type": "code",
   "execution_count": 579,
   "metadata": {
    "scrolled": true
   },
   "outputs": [],
   "source": [
    "# Standard Headers\n",
    "# You are welcome to add additional headers if you wish\n",
    "# EXCEPT for scikit-learn... You may NOT use scikit-learn for this assignment!\n",
    "import pandas as pd\n",
    "from math import log2\n",
    "import time"
   ]
  },
  {
   "cell_type": "code",
   "execution_count": 580,
   "metadata": {
    "scrolled": true
   },
   "outputs": [],
   "source": [
    "class TreeNode:\n",
    "    is_leaf = True          # boolean variable to check if the node is a leaf\n",
    "    feature_idx = None      # index that identifies the feature\n",
    "    thresh_val = None       # threshold value that splits the node\n",
    "    prediction = None       # prediction class (only valid for leaf nodes)\n",
    "    left_child = None       # left TreeNode (all values < thresh_val)\n",
    "    right_child = None      # right TreeNode (all values >= thresh_val)\n",
    "    \n",
    "    def printTree(self, level=0):    # for debugging purposes\n",
    "        if self.is_leaf:\n",
    "            print ('-'*level + 'Leaf Node:      predicts ' + str(self.prediction))\n",
    "        else:\n",
    "            print ('-'*level + 'Internal Node:  splits on feature ' \n",
    "                   + str(self.feature_idx) + ' with threshold ' + str(self.thresh_val))\n",
    "            self.left_child.printTree(level+1)\n",
    "            self.right_child.printTree(level+1)"
   ]
  },
  {
   "cell_type": "markdown",
   "metadata": {},
   "source": [
    "Q1. Implement the function `make_prediction` that takes the decision tree root and a data point instance and returns the prediction label."
   ]
  },
  {
   "cell_type": "code",
   "execution_count": 581,
   "metadata": {
    "scrolled": true
   },
   "outputs": [],
   "source": [
    "def make_prediction(tree_root, data_point):\n",
    "    # If the node is a leaf, return the prediction at this node\n",
    "    if tree_root.is_leaf:\n",
    "        # print(f\"Leaf node reached: prediction = {tree_root.prediction}\")\n",
    "        return tree_root.prediction \n",
    "     \n",
    "    # Print the feature index, threshold, and feature value to debug\n",
    "    feature_value = data_point[tree_root.feature_idx] \n",
    "    # print(f\"At node: feature {tree_root.feature_idx}, threshold = {tree_root.thresh_val}, feature value = {feature_value}\")\n",
    "    \n",
    "    # Check the direction of the split (left or right)\n",
    "    if feature_value < tree_root.thresh_val: \n",
    "        # print(f\"Going left: feature value ({feature_value}) < threshold ({tree_root.thresh_val})\")\n",
    "        if tree_root.left_child is not None:\n",
    "            return make_prediction(tree_root.left_child, data_point) \n",
    "        else:\n",
    "            return tree_root.prediction  # Return the prediction at the current node if no left child\n",
    "    \n",
    "    else:\n",
    "         # print(f\"Going right: feature value ({feature_value}) >= threshold ({tree_root.thresh_val})\")\n",
    "        if tree_root.right_child is not None: \n",
    "            return make_prediction(tree_root.right_child, data_point) \n",
    "        else:\n",
    "            return tree_root.prediction  # Return the prediction at the current node if no right child\n"
   ]
  },
  {
   "cell_type": "markdown",
   "metadata": {},
   "source": [
    "Q2. Implement the function `split_dataset` given an input data set, a `feature_idx` and the `threshold` for the feature. `left_split` will have all values < `threshold` and `right_split` will have all values >= `threshold`."
   ]
  },
  {
   "cell_type": "code",
   "execution_count": 582,
   "metadata": {
    "scrolled": true
   },
   "outputs": [],
   "source": [
    "def split_dataset(data, feature_idx, threshold):\n",
    "    left_split = data[data.iloc[:, feature_idx] < threshold]\n",
    "    right_split = data[data.iloc[:, feature_idx] >= threshold]\n",
    "    return (left_split, right_split)"
   ]
  },
  {
   "cell_type": "markdown",
   "metadata": {},
   "source": [
    "Q3. Implement the function `calc_entropy` to return the entropy of the input dataset."
   ]
  },
  {
   "cell_type": "code",
   "execution_count": 583,
   "metadata": {
    "scrolled": true
   },
   "outputs": [],
   "source": [
    "def calc_entropy(data):\n",
    "    label_index = data.shape[1] - 1 \n",
    "    labels = data.iloc[:, label_index]\n",
    "    # print(\"Len data is \", len(data))\n",
    "    if len(data) == 0:\n",
    "        return 0\n",
    "    positive_log = (labels[labels == 1].count() / len(data))\n",
    "    if positive_log == 0 or positive_log == 1:\n",
    "        return 0 \n",
    "    entropy = -(positive_log * log2(positive_log) + (1 - positive_log) * log2(1 - positive_log))\n",
    "    return entropy\n"
   ]
  },
  {
   "cell_type": "markdown",
   "metadata": {},
   "source": [
    "Q4. Implement the function `calc_best_threshold` which returns the best information gain and the corresponding threshold value for one feature at `feature_idx`. If there is a tie between threshold values, return the lowest threshold value."
   ]
  },
  {
   "cell_type": "code",
   "execution_count": 584,
   "metadata": {
    "scrolled": true
   },
   "outputs": [],
   "source": [
    "def calc_best_threshold(data, feature_idx):\n",
    "\n",
    "    feature_column = data.iloc[:, feature_idx]\n",
    "    sorted_features = feature_column.sort_values() \n",
    "     \n",
    "    best_info_gain = 0.0\n",
    "    best_thresh = None\n",
    "    og_entropy = calc_entropy(data)\n",
    "\n",
    "    # Iterate through sorted feature values\n",
    "    for i in range(1, len(sorted_features)): \n",
    "        threshold = (sorted_features.iloc[i - 1] + sorted_features.iloc[i]) / 2\n",
    "        left_split = data[data.iloc[:, feature_idx] < threshold]\n",
    "        right_split = data[data.iloc[:, feature_idx] >= threshold]\n",
    "        left_entropy = calc_entropy(left_split)\n",
    "        right_entropy = calc_entropy(right_split)\n",
    "\n",
    "        # Calculate final entropy and information gain\n",
    "        final_entropy = ((len(left_split) / len(data)) * left_entropy) + ((len(right_split) / len(data)) * right_entropy)\n",
    "        info_gain = og_entropy - final_entropy\n",
    "\n",
    "        if info_gain > best_info_gain:\n",
    "            best_info_gain = info_gain\n",
    "            best_thresh = threshold\n",
    "\n",
    "    return (best_info_gain, best_thresh)\n"
   ]
  },
  {
   "cell_type": "markdown",
   "metadata": {},
   "source": [
    "Q5. Implement the function `identify_best_split` which returns the best feature to split on for an input dataset, and also returns the corresponding threshold value. If there is a tie between features, choose the one with the lowest `feature_idx`."
   ]
  },
  {
   "cell_type": "code",
   "execution_count": 585,
   "metadata": {
    "scrolled": true
   },
   "outputs": [],
   "source": [
    "def identify_best_split(data):\n",
    "    if len(data) < 2: \n",
    "        return (None, None) \n",
    "    best_feature = None\n",
    "    best_thresh = None \n",
    "    best_info_gain = 0.0\n",
    "         \n",
    "    for feature_idx in range(data.shape[1] - 1): \n",
    "        info_gain, thresh = calc_best_threshold(data, feature_idx)\n",
    "         \n",
    "        if info_gain > best_info_gain:  \n",
    "            best_info_gain = info_gain\n",
    "            best_feature = feature_idx  \n",
    "            best_thresh = thresh \n",
    "    return (best_feature, best_thresh)"
   ]
  },
  {
   "cell_type": "markdown",
   "metadata": {},
   "source": [
    "Q6. Implement the function `create_leaf_node` which returns a `TreeNode` with `is_leaf=True` and `prediction` set to whichever classification occurs most in the dataset at this node. If there is a tie, choose classification label 1 (has disease). "
   ]
  },
  {
   "cell_type": "code",
   "execution_count": 586,
   "metadata": {
    "scrolled": true
   },
   "outputs": [],
   "source": [
    "def create_leaf_node(data):     \n",
    "    # Get the labels (assuming the last column is the label)\n",
    "    labels = data.iloc[:, -1]\n",
    "    \n",
    "    # Count the occurrences of each label\n",
    "    feature_counts = labels.value_counts()\n",
    "\n",
    "    # Find the most common label (ties are automatically handled by pandas value_counts)\n",
    "    most_common_label = feature_counts.idxmax()\n",
    "\n",
    "    # Create a leaf node and set the prediction\n",
    "    node = TreeNode()\n",
    "    node.is_leaf = True  # Ensure is_leaf is set to True for leaf nodes\n",
    "    node.prediction = most_common_label\n",
    "    return node\n"
   ]
  },
  {
   "cell_type": "markdown",
   "metadata": {},
   "source": [
    "Q7. Implement the `create_decision_tree` function. `max_levels` denotes the maximum height of the tree. For example, if `max_levels = 1` then the decision tree will only contain the leaf node at the root. \n",
    "\n",
    "[Hint: this is where the recursion happens.]"
   ]
  },
  {
   "cell_type": "code",
   "execution_count": 587,
   "metadata": {
    "scrolled": true
   },
   "outputs": [],
   "source": [
    "def create_decision_tree(data, max_levels):\n",
    "    # If max levels is 0 or there is no data, return a leaf node\n",
    "    if max_levels == 0 or len(data) == 0:\n",
    "        return create_leaf_node(data)\n",
    "\n",
    "    # Check if all labels are the same (pure node)\n",
    "    labels = data.iloc[:, -1]\n",
    "    if len(set(labels)) == 1:\n",
    "        return create_leaf_node(data)\n",
    "\n",
    "    # Identify the best feature and threshold for splitting\n",
    "    best_feature, best_thresh = identify_best_split(data)\n",
    "\n",
    "    # If no valid split found, create a leaf node\n",
    "    if best_feature is None or best_thresh is None:\n",
    "        return create_leaf_node(data)\n",
    "\n",
    "    # Split the data based on the best feature and threshold\n",
    "    left_data = data[data.iloc[:, best_feature] < best_thresh]\n",
    "    right_data = data[data.iloc[:, best_feature] >= best_thresh]\n",
    "\n",
    "    # If one of the branches is empty, return a leaf node\n",
    "    if left_data.empty or right_data.empty:\n",
    "        return create_leaf_node(data)\n",
    "\n",
    "    # Create the current node and set the splitting feature and threshold\n",
    "    current_node = TreeNode()\n",
    "    current_node.is_leaf = False  # Explicitly setting is_leaf for internal nodes\n",
    "    current_node.feature_idx = best_feature\n",
    "    current_node.thresh_val = best_thresh\n",
    "\n",
    "    # Recursively create left and right children\n",
    "    current_node.left_child = create_decision_tree(left_data, max_levels - 1) \n",
    "    current_node.right_child = create_decision_tree(right_data, max_levels - 1)\n",
    "\n",
    "    return current_node\n"
   ]
  },
  {
   "cell_type": "markdown",
   "metadata": {},
   "source": [
    "Q8. Given a decision tree and a test set, the function `calc_accuracy` returns the accuracy of the classifier on a test set. Return the accuracy as a decimal (i.e. return 0.987 and *not* 98.7)."
   ]
  },
  {
   "cell_type": "code",
   "execution_count": 588,
   "metadata": {
    "scrolled": true
   },
   "outputs": [],
   "source": [
    "def calc_accuracy(tree_root, test_data):\n",
    "    correct_predictions = 0 \n",
    "    total_predictions = len(test_data)\n",
    "\n",
    "    for index, instance in test_data.iterrows():\n",
    "        # print('inside calc_accuracy')\n",
    "        # print('printing it here in calc_accuracy' , tree_root)\n",
    "        # print('the type of instance is: ', type(instance))\n",
    "        predicted_label = make_prediction(tree_root, instance)\n",
    "        # print(\"predicted label:\" , predicted_label)\n",
    "        true_label = instance.iloc[-1]\n",
    "        if true_label == predicted_label:\n",
    "            correct_predictions += 1 \n",
    "\n",
    "    return correct_predictions / total_predictions "
   ]
  },
  {
   "cell_type": "markdown",
   "metadata": {},
   "source": [
    "Q9. Now measure the accuracy of using a decision tree on this data with a 5-fold cross validation. \n",
    "Set the `max_levels` parameter to 10 and return the average accuracy from a 5-fold-CV (as a decimal).\n",
    "\n",
    "This must run in under 10 minutes, otherwise points will be deducted. "
   ]
  },
  {
   "cell_type": "code",
   "execution_count": null,
   "metadata": {
    "scrolled": true
   },
   "outputs": [],
   "source": [
    "def run_CV(filename):\n",
    "    start = time.time()\n",
    "    d = pd.read_csv(filename, header = None)\n",
    "    accuracy = 0\n",
    "    fold_size = len(d) // 5\n",
    "    accuracies = []\n",
    "\n",
    "    for i in range(5):\n",
    "        test_set = d[i * fold_size: (i + 1) * fold_size]\n",
    "        train_set = pd.concat([d.iloc[:i * fold_size], d.iloc[(i + 1) * fold_size:]]) \n",
    "        tree = create_decision_tree(train_set, max_levels=10)\n",
    "        fold_accuracy = calc_accuracy(tree, test_set)\n",
    "        print(\"fold accuracy\", fold_accuracy)\n",
    "        accuracies.append(fold_accuracy)\n",
    "\n",
    "    accuracy = sum(accuracies) / len(accuracies)\n",
    "    #print runtime\n",
    "    end = time.time()\n",
    "    total_time = end - start\n",
    "    min = int(total_time // 60)\n",
    "    sec = int(total_time % 60)\n",
    "    print(f\"Time taken: {min}:{sec:02d}\")\n",
    "\n",
    "    return accuracy\n",
    "\n",
    "\n",
    "accuracy = run_CV(\"messidor_features.txt\")\n",
    "print('Accuracy:', accuracy*100)"
   ]
  }
 ],
 "metadata": {
  "kernelspec": {
   "display_name": "Python 3",
   "language": "python",
   "name": "python3"
  },
  "language_info": {
   "codemirror_mode": {
    "name": "ipython",
    "version": 3
   },
   "file_extension": ".py",
   "mimetype": "text/x-python",
   "name": "python",
   "nbconvert_exporter": "python",
   "pygments_lexer": "ipython3",
   "version": "3.13.0"
  }
 },
 "nbformat": 4,
 "nbformat_minor": 4
}
