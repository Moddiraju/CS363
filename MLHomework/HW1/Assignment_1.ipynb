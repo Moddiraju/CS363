{
 "cells": [
  {
   "cell_type": "code",
   "execution_count": 1,
   "metadata": {},
   "outputs": [],
   "source": [
    "# Manojwal Oddiraju, eid: mo24776"
   ]
  },
  {
   "cell_type": "code",
   "execution_count": 2,
   "metadata": {},
   "outputs": [
    {
     "data": {
      "text/plain": [
       "'2.2.3'"
      ]
     },
     "execution_count": 2,
     "metadata": {},
     "output_type": "execute_result"
    }
   ],
   "source": [
    "# Standard Headers\n",
    "# You may add additional headers here if needed\n",
    "import pandas as pd\n",
    "import matplotlib.pyplot as plt\n",
    "from sklearn.preprocessing import StandardScaler\n",
    "from sklearn.decomposition import PCA\n",
    "\n",
    "# Enable inline mode for matplotlib so that Jupyter displays graphs\n",
    "%matplotlib inline\n",
    "\n",
    "# print your pandas version\n",
    "pd.__version__ "
   ]
  },
  {
   "cell_type": "markdown",
   "metadata": {},
   "source": [
    "# Assignment 1: Data Preprocessing"
   ]
  },
  {
   "cell_type": "markdown",
   "metadata": {},
   "source": [
    "## Part 1: Data Cleaning, Exploration, and Feature Engineering\n",
    "\n",
    "For this part of the assignment you'll be using the 1994 Adult Census Income dataset (`adult.csv`) collected by Ronny Kohavi and Barry Becker. It contains 32,561 records with 14 features."
   ]
  },
  {
   "cell_type": "markdown",
   "metadata": {},
   "source": [
    "Q1. Read the dataset from `adult.csv` into a Pandas dataframe. You can find more on reading CSV (Comma Separated Values) data as a Pandas dataframe [here](http://pandas.pydata.org/pandas-docs/stable/generated/pandas.read_csv.html).\n",
    "\n",
    "**Important:**\n",
    "* Notice in the csv file that `?` is used to indicate missing values. We want all of the missing values to be represented by NaNs in the dataframe. Make sure that all of the `?` are converted to `NaN` in your dataframe.\n",
    "* Also, set the `skipinitialspace` parameter to `True`. (This strips the spaces after the commas off of the data which will be necessary for things to work correctly later in the assignment!)\n",
    "* Display the head of your dataframe."
   ]
  },
  {
   "cell_type": "code",
   "execution_count": 3,
   "metadata": {},
   "outputs": [
    {
     "ename": "FileNotFoundError",
     "evalue": "[Errno 2] No such file or directory: 'adult.csv'",
     "output_type": "error",
     "traceback": [
      "\u001b[1;31m---------------------------------------------------------------------------\u001b[0m",
      "\u001b[1;31mFileNotFoundError\u001b[0m                         Traceback (most recent call last)",
      "Cell \u001b[1;32mIn[3], line 1\u001b[0m\n\u001b[1;32m----> 1\u001b[0m adults \u001b[38;5;241m=\u001b[39m \u001b[43mpd\u001b[49m\u001b[38;5;241;43m.\u001b[39;49m\u001b[43mread_csv\u001b[49m\u001b[43m(\u001b[49m\u001b[38;5;124;43m'\u001b[39;49m\u001b[38;5;124;43madult.csv\u001b[39;49m\u001b[38;5;124;43m'\u001b[39;49m\u001b[43m,\u001b[49m\u001b[43m \u001b[49m\u001b[43mskipinitialspace\u001b[49m\u001b[38;5;241;43m=\u001b[39;49m\u001b[38;5;28;43;01mTrue\u001b[39;49;00m\u001b[43m,\u001b[49m\u001b[43m \u001b[49m\u001b[43mna_values\u001b[49m\u001b[38;5;241;43m=\u001b[39;49m\u001b[38;5;124;43m'\u001b[39;49m\u001b[38;5;124;43m?\u001b[39;49m\u001b[38;5;124;43m'\u001b[39;49m\u001b[43m)\u001b[49m\n",
      "File \u001b[1;32mc:\\Users\\moddi\\AppData\\Local\\Programs\\Python\\Python311\\Lib\\site-packages\\pandas\\io\\parsers\\readers.py:1026\u001b[0m, in \u001b[0;36mread_csv\u001b[1;34m(filepath_or_buffer, sep, delimiter, header, names, index_col, usecols, dtype, engine, converters, true_values, false_values, skipinitialspace, skiprows, skipfooter, nrows, na_values, keep_default_na, na_filter, verbose, skip_blank_lines, parse_dates, infer_datetime_format, keep_date_col, date_parser, date_format, dayfirst, cache_dates, iterator, chunksize, compression, thousands, decimal, lineterminator, quotechar, quoting, doublequote, escapechar, comment, encoding, encoding_errors, dialect, on_bad_lines, delim_whitespace, low_memory, memory_map, float_precision, storage_options, dtype_backend)\u001b[0m\n\u001b[0;32m   1013\u001b[0m kwds_defaults \u001b[38;5;241m=\u001b[39m _refine_defaults_read(\n\u001b[0;32m   1014\u001b[0m     dialect,\n\u001b[0;32m   1015\u001b[0m     delimiter,\n\u001b[1;32m   (...)\u001b[0m\n\u001b[0;32m   1022\u001b[0m     dtype_backend\u001b[38;5;241m=\u001b[39mdtype_backend,\n\u001b[0;32m   1023\u001b[0m )\n\u001b[0;32m   1024\u001b[0m kwds\u001b[38;5;241m.\u001b[39mupdate(kwds_defaults)\n\u001b[1;32m-> 1026\u001b[0m \u001b[38;5;28;01mreturn\u001b[39;00m \u001b[43m_read\u001b[49m\u001b[43m(\u001b[49m\u001b[43mfilepath_or_buffer\u001b[49m\u001b[43m,\u001b[49m\u001b[43m \u001b[49m\u001b[43mkwds\u001b[49m\u001b[43m)\u001b[49m\n",
      "File \u001b[1;32mc:\\Users\\moddi\\AppData\\Local\\Programs\\Python\\Python311\\Lib\\site-packages\\pandas\\io\\parsers\\readers.py:620\u001b[0m, in \u001b[0;36m_read\u001b[1;34m(filepath_or_buffer, kwds)\u001b[0m\n\u001b[0;32m    617\u001b[0m _validate_names(kwds\u001b[38;5;241m.\u001b[39mget(\u001b[38;5;124m\"\u001b[39m\u001b[38;5;124mnames\u001b[39m\u001b[38;5;124m\"\u001b[39m, \u001b[38;5;28;01mNone\u001b[39;00m))\n\u001b[0;32m    619\u001b[0m \u001b[38;5;66;03m# Create the parser.\u001b[39;00m\n\u001b[1;32m--> 620\u001b[0m parser \u001b[38;5;241m=\u001b[39m \u001b[43mTextFileReader\u001b[49m\u001b[43m(\u001b[49m\u001b[43mfilepath_or_buffer\u001b[49m\u001b[43m,\u001b[49m\u001b[43m \u001b[49m\u001b[38;5;241;43m*\u001b[39;49m\u001b[38;5;241;43m*\u001b[39;49m\u001b[43mkwds\u001b[49m\u001b[43m)\u001b[49m\n\u001b[0;32m    622\u001b[0m \u001b[38;5;28;01mif\u001b[39;00m chunksize \u001b[38;5;129;01mor\u001b[39;00m iterator:\n\u001b[0;32m    623\u001b[0m     \u001b[38;5;28;01mreturn\u001b[39;00m parser\n",
      "File \u001b[1;32mc:\\Users\\moddi\\AppData\\Local\\Programs\\Python\\Python311\\Lib\\site-packages\\pandas\\io\\parsers\\readers.py:1620\u001b[0m, in \u001b[0;36mTextFileReader.__init__\u001b[1;34m(self, f, engine, **kwds)\u001b[0m\n\u001b[0;32m   1617\u001b[0m     \u001b[38;5;28mself\u001b[39m\u001b[38;5;241m.\u001b[39moptions[\u001b[38;5;124m\"\u001b[39m\u001b[38;5;124mhas_index_names\u001b[39m\u001b[38;5;124m\"\u001b[39m] \u001b[38;5;241m=\u001b[39m kwds[\u001b[38;5;124m\"\u001b[39m\u001b[38;5;124mhas_index_names\u001b[39m\u001b[38;5;124m\"\u001b[39m]\n\u001b[0;32m   1619\u001b[0m \u001b[38;5;28mself\u001b[39m\u001b[38;5;241m.\u001b[39mhandles: IOHandles \u001b[38;5;241m|\u001b[39m \u001b[38;5;28;01mNone\u001b[39;00m \u001b[38;5;241m=\u001b[39m \u001b[38;5;28;01mNone\u001b[39;00m\n\u001b[1;32m-> 1620\u001b[0m \u001b[38;5;28mself\u001b[39m\u001b[38;5;241m.\u001b[39m_engine \u001b[38;5;241m=\u001b[39m \u001b[38;5;28;43mself\u001b[39;49m\u001b[38;5;241;43m.\u001b[39;49m\u001b[43m_make_engine\u001b[49m\u001b[43m(\u001b[49m\u001b[43mf\u001b[49m\u001b[43m,\u001b[49m\u001b[43m \u001b[49m\u001b[38;5;28;43mself\u001b[39;49m\u001b[38;5;241;43m.\u001b[39;49m\u001b[43mengine\u001b[49m\u001b[43m)\u001b[49m\n",
      "File \u001b[1;32mc:\\Users\\moddi\\AppData\\Local\\Programs\\Python\\Python311\\Lib\\site-packages\\pandas\\io\\parsers\\readers.py:1880\u001b[0m, in \u001b[0;36mTextFileReader._make_engine\u001b[1;34m(self, f, engine)\u001b[0m\n\u001b[0;32m   1878\u001b[0m     \u001b[38;5;28;01mif\u001b[39;00m \u001b[38;5;124m\"\u001b[39m\u001b[38;5;124mb\u001b[39m\u001b[38;5;124m\"\u001b[39m \u001b[38;5;129;01mnot\u001b[39;00m \u001b[38;5;129;01min\u001b[39;00m mode:\n\u001b[0;32m   1879\u001b[0m         mode \u001b[38;5;241m+\u001b[39m\u001b[38;5;241m=\u001b[39m \u001b[38;5;124m\"\u001b[39m\u001b[38;5;124mb\u001b[39m\u001b[38;5;124m\"\u001b[39m\n\u001b[1;32m-> 1880\u001b[0m \u001b[38;5;28mself\u001b[39m\u001b[38;5;241m.\u001b[39mhandles \u001b[38;5;241m=\u001b[39m \u001b[43mget_handle\u001b[49m\u001b[43m(\u001b[49m\n\u001b[0;32m   1881\u001b[0m \u001b[43m    \u001b[49m\u001b[43mf\u001b[49m\u001b[43m,\u001b[49m\n\u001b[0;32m   1882\u001b[0m \u001b[43m    \u001b[49m\u001b[43mmode\u001b[49m\u001b[43m,\u001b[49m\n\u001b[0;32m   1883\u001b[0m \u001b[43m    \u001b[49m\u001b[43mencoding\u001b[49m\u001b[38;5;241;43m=\u001b[39;49m\u001b[38;5;28;43mself\u001b[39;49m\u001b[38;5;241;43m.\u001b[39;49m\u001b[43moptions\u001b[49m\u001b[38;5;241;43m.\u001b[39;49m\u001b[43mget\u001b[49m\u001b[43m(\u001b[49m\u001b[38;5;124;43m\"\u001b[39;49m\u001b[38;5;124;43mencoding\u001b[39;49m\u001b[38;5;124;43m\"\u001b[39;49m\u001b[43m,\u001b[49m\u001b[43m \u001b[49m\u001b[38;5;28;43;01mNone\u001b[39;49;00m\u001b[43m)\u001b[49m\u001b[43m,\u001b[49m\n\u001b[0;32m   1884\u001b[0m \u001b[43m    \u001b[49m\u001b[43mcompression\u001b[49m\u001b[38;5;241;43m=\u001b[39;49m\u001b[38;5;28;43mself\u001b[39;49m\u001b[38;5;241;43m.\u001b[39;49m\u001b[43moptions\u001b[49m\u001b[38;5;241;43m.\u001b[39;49m\u001b[43mget\u001b[49m\u001b[43m(\u001b[49m\u001b[38;5;124;43m\"\u001b[39;49m\u001b[38;5;124;43mcompression\u001b[39;49m\u001b[38;5;124;43m\"\u001b[39;49m\u001b[43m,\u001b[49m\u001b[43m \u001b[49m\u001b[38;5;28;43;01mNone\u001b[39;49;00m\u001b[43m)\u001b[49m\u001b[43m,\u001b[49m\n\u001b[0;32m   1885\u001b[0m \u001b[43m    \u001b[49m\u001b[43mmemory_map\u001b[49m\u001b[38;5;241;43m=\u001b[39;49m\u001b[38;5;28;43mself\u001b[39;49m\u001b[38;5;241;43m.\u001b[39;49m\u001b[43moptions\u001b[49m\u001b[38;5;241;43m.\u001b[39;49m\u001b[43mget\u001b[49m\u001b[43m(\u001b[49m\u001b[38;5;124;43m\"\u001b[39;49m\u001b[38;5;124;43mmemory_map\u001b[39;49m\u001b[38;5;124;43m\"\u001b[39;49m\u001b[43m,\u001b[49m\u001b[43m \u001b[49m\u001b[38;5;28;43;01mFalse\u001b[39;49;00m\u001b[43m)\u001b[49m\u001b[43m,\u001b[49m\n\u001b[0;32m   1886\u001b[0m \u001b[43m    \u001b[49m\u001b[43mis_text\u001b[49m\u001b[38;5;241;43m=\u001b[39;49m\u001b[43mis_text\u001b[49m\u001b[43m,\u001b[49m\n\u001b[0;32m   1887\u001b[0m \u001b[43m    \u001b[49m\u001b[43merrors\u001b[49m\u001b[38;5;241;43m=\u001b[39;49m\u001b[38;5;28;43mself\u001b[39;49m\u001b[38;5;241;43m.\u001b[39;49m\u001b[43moptions\u001b[49m\u001b[38;5;241;43m.\u001b[39;49m\u001b[43mget\u001b[49m\u001b[43m(\u001b[49m\u001b[38;5;124;43m\"\u001b[39;49m\u001b[38;5;124;43mencoding_errors\u001b[39;49m\u001b[38;5;124;43m\"\u001b[39;49m\u001b[43m,\u001b[49m\u001b[43m \u001b[49m\u001b[38;5;124;43m\"\u001b[39;49m\u001b[38;5;124;43mstrict\u001b[39;49m\u001b[38;5;124;43m\"\u001b[39;49m\u001b[43m)\u001b[49m\u001b[43m,\u001b[49m\n\u001b[0;32m   1888\u001b[0m \u001b[43m    \u001b[49m\u001b[43mstorage_options\u001b[49m\u001b[38;5;241;43m=\u001b[39;49m\u001b[38;5;28;43mself\u001b[39;49m\u001b[38;5;241;43m.\u001b[39;49m\u001b[43moptions\u001b[49m\u001b[38;5;241;43m.\u001b[39;49m\u001b[43mget\u001b[49m\u001b[43m(\u001b[49m\u001b[38;5;124;43m\"\u001b[39;49m\u001b[38;5;124;43mstorage_options\u001b[39;49m\u001b[38;5;124;43m\"\u001b[39;49m\u001b[43m,\u001b[49m\u001b[43m \u001b[49m\u001b[38;5;28;43;01mNone\u001b[39;49;00m\u001b[43m)\u001b[49m\u001b[43m,\u001b[49m\n\u001b[0;32m   1889\u001b[0m \u001b[43m\u001b[49m\u001b[43m)\u001b[49m\n\u001b[0;32m   1890\u001b[0m \u001b[38;5;28;01massert\u001b[39;00m \u001b[38;5;28mself\u001b[39m\u001b[38;5;241m.\u001b[39mhandles \u001b[38;5;129;01mis\u001b[39;00m \u001b[38;5;129;01mnot\u001b[39;00m \u001b[38;5;28;01mNone\u001b[39;00m\n\u001b[0;32m   1891\u001b[0m f \u001b[38;5;241m=\u001b[39m \u001b[38;5;28mself\u001b[39m\u001b[38;5;241m.\u001b[39mhandles\u001b[38;5;241m.\u001b[39mhandle\n",
      "File \u001b[1;32mc:\\Users\\moddi\\AppData\\Local\\Programs\\Python\\Python311\\Lib\\site-packages\\pandas\\io\\common.py:873\u001b[0m, in \u001b[0;36mget_handle\u001b[1;34m(path_or_buf, mode, encoding, compression, memory_map, is_text, errors, storage_options)\u001b[0m\n\u001b[0;32m    868\u001b[0m \u001b[38;5;28;01melif\u001b[39;00m \u001b[38;5;28misinstance\u001b[39m(handle, \u001b[38;5;28mstr\u001b[39m):\n\u001b[0;32m    869\u001b[0m     \u001b[38;5;66;03m# Check whether the filename is to be opened in binary mode.\u001b[39;00m\n\u001b[0;32m    870\u001b[0m     \u001b[38;5;66;03m# Binary mode does not support 'encoding' and 'newline'.\u001b[39;00m\n\u001b[0;32m    871\u001b[0m     \u001b[38;5;28;01mif\u001b[39;00m ioargs\u001b[38;5;241m.\u001b[39mencoding \u001b[38;5;129;01mand\u001b[39;00m \u001b[38;5;124m\"\u001b[39m\u001b[38;5;124mb\u001b[39m\u001b[38;5;124m\"\u001b[39m \u001b[38;5;129;01mnot\u001b[39;00m \u001b[38;5;129;01min\u001b[39;00m ioargs\u001b[38;5;241m.\u001b[39mmode:\n\u001b[0;32m    872\u001b[0m         \u001b[38;5;66;03m# Encoding\u001b[39;00m\n\u001b[1;32m--> 873\u001b[0m         handle \u001b[38;5;241m=\u001b[39m \u001b[38;5;28;43mopen\u001b[39;49m\u001b[43m(\u001b[49m\n\u001b[0;32m    874\u001b[0m \u001b[43m            \u001b[49m\u001b[43mhandle\u001b[49m\u001b[43m,\u001b[49m\n\u001b[0;32m    875\u001b[0m \u001b[43m            \u001b[49m\u001b[43mioargs\u001b[49m\u001b[38;5;241;43m.\u001b[39;49m\u001b[43mmode\u001b[49m\u001b[43m,\u001b[49m\n\u001b[0;32m    876\u001b[0m \u001b[43m            \u001b[49m\u001b[43mencoding\u001b[49m\u001b[38;5;241;43m=\u001b[39;49m\u001b[43mioargs\u001b[49m\u001b[38;5;241;43m.\u001b[39;49m\u001b[43mencoding\u001b[49m\u001b[43m,\u001b[49m\n\u001b[0;32m    877\u001b[0m \u001b[43m            \u001b[49m\u001b[43merrors\u001b[49m\u001b[38;5;241;43m=\u001b[39;49m\u001b[43merrors\u001b[49m\u001b[43m,\u001b[49m\n\u001b[0;32m    878\u001b[0m \u001b[43m            \u001b[49m\u001b[43mnewline\u001b[49m\u001b[38;5;241;43m=\u001b[39;49m\u001b[38;5;124;43m\"\u001b[39;49m\u001b[38;5;124;43m\"\u001b[39;49m\u001b[43m,\u001b[49m\n\u001b[0;32m    879\u001b[0m \u001b[43m        \u001b[49m\u001b[43m)\u001b[49m\n\u001b[0;32m    880\u001b[0m     \u001b[38;5;28;01melse\u001b[39;00m:\n\u001b[0;32m    881\u001b[0m         \u001b[38;5;66;03m# Binary mode\u001b[39;00m\n\u001b[0;32m    882\u001b[0m         handle \u001b[38;5;241m=\u001b[39m \u001b[38;5;28mopen\u001b[39m(handle, ioargs\u001b[38;5;241m.\u001b[39mmode)\n",
      "\u001b[1;31mFileNotFoundError\u001b[0m: [Errno 2] No such file or directory: 'adult.csv'"
     ]
    }
   ],
   "source": [
    "adults = pd.read_csv('adult.csv', skipinitialspace=True, na_values='?')"
   ]
  },
  {
   "cell_type": "markdown",
   "metadata": {},
   "source": [
    "Q2. Start by looking for missing values. How many missing values are there in this dataset?"
   ]
  },
  {
   "cell_type": "code",
   "execution_count": null,
   "metadata": {
    "scrolled": true
   },
   "outputs": [
    {
     "name": "stdout",
     "output_type": "stream",
     "text": [
      "4290\n"
     ]
    }
   ],
   "source": [
    "missing = adults.isnull().sum().sum()\n",
    "print(missing)"
   ]
  },
  {
   "cell_type": "markdown",
   "metadata": {},
   "source": [
    "Q3. Clean up some of the missing values. \n",
    "* Drop all of the records from the dataset that are missing `occupation` or `workclass`.\n",
    "* For records missing values in `native-country`, impute those by using a \"forward fill.\" This will fill in the missing value with the same value as the previous record. \n",
    "* For records missing `age`, leave those as-is for now. We will do a similar-case imputation on them later! \n",
    "\n",
    "Print something to show that there are no longer missing values in `workclass`, `occupation`, or `native-country`."
   ]
  },
  {
   "cell_type": "code",
   "execution_count": null,
   "metadata": {
    "scrolled": true
   },
   "outputs": [
    {
     "name": "stdout",
     "output_type": "stream",
     "text": [
      "0        United-States\n",
      "1        United-States\n",
      "2        United-States\n",
      "3        United-States\n",
      "5                 Cuba\n",
      "             ...      \n",
      "32556    United-States\n",
      "32557    United-States\n",
      "32558    United-States\n",
      "32559    United-States\n",
      "32560    United-States\n",
      "Name: native-country, Length: 30718, dtype: object\n"
     ]
    }
   ],
   "source": [
    "adults = adults.dropna(subset=['occupation', 'workclass'])\n",
    "adults[\"native-country\"] = adults['native-country'].ffill()\n",
    "print(adults['native-country'])\n"
   ]
  },
  {
   "cell_type": "markdown",
   "metadata": {},
   "source": [
    "Q4. Explore the data:\n",
    "* Print or display something to show how the dataset distributed between people who make <=50K income and those who make >50K income? \n",
    "* Print of display something to show how  the dataset distributed between males & females.\n",
    "* Create a plot to show the distribution of the datset by `education`.\n",
    "* Create a plot to show the distribution of the ages in the dataset.\n",
    "\n",
    "You may add additional cells to your notebook for each of these tasks, if needed."
   ]
  },
  {
   "cell_type": "code",
   "execution_count": null,
   "metadata": {
    "scrolled": true
   },
   "outputs": [
    {
     "data": {
      "image/png": "[encoded data removed]",
      "text/plain": [
       "<Figure size 640x480 with 1 Axes>"
      ]
     },
     "metadata": {},
     "output_type": "display_data"
    }
   ],
   "source": [
    "income_counts = adults[\"income\"].value_counts()\n",
    "plt.bar(income_counts.index, income_counts.values, color=[\"red\", \"green\"])\n",
    "plt.xlabel(\"Tax Bracket\")\n",
    "plt.ylabel(\"Number of People\")\n",
    "plt.title(\"Number of People by Tax Bracket\")\n",
    "plt.show()"
   ]
  },
  {
   "cell_type": "code",
   "execution_count": null,
   "metadata": {},
   "outputs": [
    {
     "data": {
      "image/png": "[encoded data removed]",
      "text/plain": [
       "<Figure size 640x480 with 1 Axes>"
      ]
     },
     "metadata": {},
     "output_type": "display_data"
    }
   ],
   "source": [
    "gender_counts = adults[\"sex\"].value_counts()\n",
    "plt.bar(gender_counts.index, gender_counts.values, color=[\"red\", \"green\"])\n",
    "plt.xlabel(\"Gender\")\n",
    "plt.ylabel(\"Number of People\")\n",
    "plt.title(\"Number of People by Gender\")\n",
    "plt.show()"
   ]
  },
  {
   "cell_type": "code",
   "execution_count": null,
   "metadata": {},
   "outputs": [
    {
     "data": {
      "image/png": "[encoded data removed]",
      "text/plain": [
       "<Figure size 640x480 with 1 Axes>"
      ]
     },
     "metadata": {},
     "output_type": "display_data"
    }
   ],
   "source": [
    "edu_counts = adults[\"education\"].value_counts()\n",
    "plt.bar(edu_counts.index, edu_counts.values, color=[\"blue\"])\n",
    "plt.xlabel(\"Education\")\n",
    "plt.ylabel(\"Number of People\")\n",
    "plt.title(\"Number of People by Education\")\n",
    "plt.show()"
   ]
  },
  {
   "cell_type": "code",
   "execution_count": null,
   "metadata": {},
   "outputs": [
    {
     "data": {
      "image/png": "[encoded data removed]",
      "text/plain": [
       "<Figure size 640x480 with 1 Axes>"
      ]
     },
     "metadata": {},
     "output_type": "display_data"
    }
   ],
   "source": [
    "age_counts = adults[\"age\"].value_counts()\n",
    "plt.bar(age_counts.index, age_counts.values, color=[\"blue\"])\n",
    "plt.xlabel(\"Age\")\n",
    "plt.ylabel(\"Number of People\")\n",
    "plt.title(\"Number of People by Age\")\n",
    "plt.show()"
   ]
  },
  {
   "cell_type": "markdown",
   "metadata": {
    "scrolled": true
   },
   "source": [
    "Q5. Explore the `capital-gain` column.\n",
    "You may add additional cells to your notebook to do this, if needed.\n",
    "\n",
    "Answer as a comment: Explain/Summarize what you find."
   ]
  },
  {
   "cell_type": "code",
   "execution_count": null,
   "metadata": {},
   "outputs": [
    {
     "name": "stdout",
     "output_type": "stream",
     "text": [
      "1106.0370792369295\n",
      "0.0\n",
      "0.0\n",
      "0.0\n",
      "99999.0\n"
     ]
    }
   ],
   "source": [
    "mean_gain = adults[\"capital-gain\"].mean()\n",
    "median_gain = adults[\"capital-gain\"].median()\n",
    "q1_gain = adults[\"capital-gain\"].quantile(0.25)\n",
    "q3_gain = adults[\"capital-gain\"].quantile(0.75)\n",
    "max = adults[\"capital-gain\"].quantile(1)\n",
    "print(mean_gain)\n",
    "print(median_gain)\n",
    "print(q1_gain)\n",
    "print(q3_gain)\n",
    "print(max)\n",
    "# Almost the entire column is just zeros (more than 75%), it seems that the majority of people during this census did not have any capital-gains\n",
    "# The max is 99999, the mean is 1106\n"
   ]
  },
  {
   "cell_type": "markdown",
   "metadata": {},
   "source": [
    "Q6. Using the `groupby()` method for dataframes [here](https://pandas.pydata.org/pandas-docs/stable/generated/pandas.DataFrame.groupby.html), group the data by  `marital-status`. \n",
    "\n",
    "Display each marital status along with it's mean age, in sorted order from least to greatest."
   ]
  },
  {
   "cell_type": "code",
   "execution_count": null,
   "metadata": {},
   "outputs": [
    {
     "name": "stdout",
     "output_type": "stream",
     "text": [
      "marital-status\n",
      "Never-married            28.471218\n",
      "Married-AF-spouse        31.250000\n",
      "Separated                39.507821\n",
      "Married-spouse-absent    40.290488\n",
      "Married-civ-spouse       42.770487\n",
      "Divorced                 42.896333\n",
      "Widowed                  57.742857\n",
      "Name: age, dtype: float64\n"
     ]
    }
   ],
   "source": [
    "mean_ages = adults.groupby(by=\"marital-status\")[\"age\"].mean()\n",
    "print(mean_ages.sort_values())\n"
   ]
  },
  {
   "cell_type": "markdown",
   "metadata": {},
   "source": [
    "Q7. Now fill in those missing age values, using similar case imputation. For each missing age, fill it in with the **median** age of that person's marital-status category. Use **median** rather than mean for this, so that we only use whole numbers for ages. \n",
    "\n",
    "Specifically display the records with row IDs 119, 174, 2423."
   ]
  },
  {
   "cell_type": "code",
   "execution_count": null,
   "metadata": {
    "scrolled": true
   },
   "outputs": [
    {
     "name": "stdout",
     "output_type": "stream",
     "text": [
      "       age workclass     education  education-num      marital-status  \\\n",
      "124   19.0   Private  Some-college             10       Never-married   \n",
      "183   40.0   Private   Elem-school              4  Married-civ-spouse   \n",
      "2593  39.0   Private       Masters             14       Never-married   \n",
      "\n",
      "             occupation   relationship   race   sex  capital-gain  \\\n",
      "124       Other-service      Own-child  Black  Male             0   \n",
      "183   Machine-op-inspct        Husband  White  Male             0   \n",
      "2593    Exec-managerial  Not-in-family  Black  Male          8614   \n",
      "\n",
      "      capital-loss  hours-per-week native-country income  \n",
      "124              0              35  United-States  <=50K  \n",
      "183              0              40         Mexico   >50K  \n",
      "2593             0              52  United-States   >50K  \n"
     ]
    }
   ],
   "source": [
    "median_ages = adults.groupby(\"marital-status\")[\"age\"].median()\n",
    "adults[\"age\"] = adults[\"age\"].fillna(adults[\"marital-status\"].map(median_ages))\n",
    "rows = adults.iloc[[119, 174, 2423]]\n",
    "print(rows)\n"
   ]
  },
  {
   "cell_type": "markdown",
   "metadata": {},
   "source": [
    "Q8. Display everyone who is over 90 years old.  "
   ]
  },
  {
   "cell_type": "code",
   "execution_count": null,
   "metadata": {},
   "outputs": [
    {
     "name": "stdout",
     "output_type": "stream",
     "text": [
      "        age  workclass    education  education-num      marital-status  \\\n",
      "222    91.0    Private      HS-grad              9       Never-married   \n",
      "5272   94.0    Private  High-school              5       Never-married   \n",
      "32277  91.0    Private      HS-grad              9             Widowed   \n",
      "32367  93.0  Local-gov  Elem-school              4  Married-civ-spouse   \n",
      "\n",
      "            occupation   relationship   race     sex  capital-gain  \\\n",
      "222      Other-service  Not-in-family  Black    Male             0   \n",
      "5272      Adm-clerical  Not-in-family  White  Female             0   \n",
      "32277     Adm-clerical      Unmarried  White  Female             0   \n",
      "32367  Protective-serv        Husband  White    Male          2653   \n",
      "\n",
      "       capital-loss  hours-per-week native-country income  \n",
      "222            2206              40  United-States  <=50K  \n",
      "5272              0              40  United-States  <=50K  \n",
      "32277             0              25  United-States  <=50K  \n",
      "32367             0              40  United-States  <=50K  \n"
     ]
    }
   ],
   "source": [
    "over_ninety = adults[adults[\"age\"] > 90]\n",
    "print(over_ninety)"
   ]
  },
  {
   "cell_type": "markdown",
   "metadata": {},
   "source": [
    "Q9. Create a scatter plot between `age` and `hours-per-week` **for only the first 100 datapoints in the dataset.**  \n",
    "Place `age` on the X axis. Color each datapoint according to their income - one color for those that make <=50K, and another color for those that make >50K.\n",
    "\n",
    "Plots should always have axis labels.\n",
    "\n",
    "Answer as a comment: What observations or insights can you make by looking at this plot?"
   ]
  },
  {
   "cell_type": "code",
   "execution_count": null,
   "metadata": {},
   "outputs": [
    {
     "data": {
      "image/png": "[encoded data removed]",
      "text/plain": [
       "<Figure size 640x480 with 1 Axes>"
      ]
     },
     "metadata": {},
     "output_type": "display_data"
    }
   ],
   "source": [
    "hundo = adults.head(100)\n",
    "plt.scatter(hundo[\"age\"], hundo[\"hours-per-week\"], alpha=0.7, color=\"blue\")\n",
    "\n",
    "plt.xlabel('age')\n",
    "plt.ylabel('hours-per-week')\n",
    "plt.show()\n",
    "\n",
    "# This plot shows a pretty random distribution, but theres a ton of people that work the standard 40 hour work week which is why there is\n",
    "# a horizontal line there. There is some 40 year old that is working over 80 hours a week and the general trend is that most people hover 30-50 hours a week\n",
    "\n"
   ]
  },
  {
   "cell_type": "markdown",
   "metadata": {},
   "source": [
    "Q10. Feature engineering: Using the dictionary provided below, create a new column called `continent` using the existing `native-country` column in the dataframe. You may want to look at the `map()` method for Series [here](https://pandas.pydata.org/docs/reference/api/pandas.Series.map.html). Display the head of the new dataframe."
   ]
  },
  {
   "cell_type": "code",
   "execution_count": null,
   "metadata": {},
   "outputs": [],
   "source": [
    "# Do NOT edit the code in this cell!!\n",
    "continent_dict = {\n",
    "    'Cambodia' : 'Asia',\n",
    "    'Canada' : 'North-America',\n",
    "    'China' : 'Asia',\n",
    "    'Columbia' : 'South-America',\n",
    "    'Cuba' : 'North-America',\n",
    "    'Dominican-Republic' : 'North-America',\n",
    "    'Ecuador' : 'South-America',\n",
    "    'El-Salvador' : 'North-America',\n",
    "    'England' : 'Europe',\n",
    "    'France' : 'Europe',\n",
    "    'Germany' : 'Europe',\n",
    "    'Greece' : 'Europe',\n",
    "    'Guatemala' : 'North-America',\n",
    "    'Haiti' : 'North-America',\n",
    "    'Holand-Netherlands' : 'Europe',\n",
    "    'Honduras' : 'North-America',\n",
    "    'Hong' : 'Asia',\n",
    "    'Hungary' : 'Europe',\n",
    "    'India' : 'Asia',\n",
    "    'Iran' : 'Asia',\n",
    "    'Ireland' : 'Europe',\n",
    "    'Italy' : 'Europe',\n",
    "    'Jamaica' : 'North-America',\n",
    "    'Japan' : 'Asia',\n",
    "    'Laos' : 'Asia',\n",
    "    'Mexico' : 'North-America',\n",
    "    'Nicaragua' : 'North-America',\n",
    "    'Outlying-US(Guam-USVI-etc)' : 'North-America',\n",
    "    'Peru' : 'South-America',\n",
    "    'Philippines' : 'Asia',\n",
    "    'Poland' : 'Europe',\n",
    "    'Portugal' : 'Europe',\n",
    "    'Puerto-Rico' : 'North-America',\n",
    "    'Scotland' : 'Europe',\n",
    "    'South' : 'Asia',\n",
    "    'Taiwan' : 'Asia',\n",
    "    'Thailand' : 'Asia',\n",
    "    'Trinadad&Tobago' : 'South-America',\n",
    "    'United-States' : 'North-America',\n",
    "    'Vietnam' : 'Asia',\n",
    "    'Yugoslavia' : 'Europe',\n",
    "}"
   ]
  },
  {
   "cell_type": "code",
   "execution_count": null,
   "metadata": {},
   "outputs": [
    {
     "name": "stdout",
     "output_type": "stream",
     "text": [
      "0        North-America\n",
      "1        North-America\n",
      "2        North-America\n",
      "3        North-America\n",
      "5        North-America\n",
      "             ...      \n",
      "32556    North-America\n",
      "32557    North-America\n",
      "32558    North-America\n",
      "32559    North-America\n",
      "32560    North-America\n",
      "Name: continents, Length: 30718, dtype: object\n"
     ]
    }
   ],
   "source": [
    "adults_data_copy = adults.copy(deep=True)\n",
    "adults_data_copy[\"continents\"] = adults_data_copy[\"native-country\"].map(continent_dict)\n",
    "print(adults_data_copy[\"continents\"])"
   ]
  },
  {
   "cell_type": "markdown",
   "metadata": {},
   "source": [
    "Q11. Plot a bar graph showing the average age of adults from each continent, and show the standard deviations on the same graph.\n",
    "\n",
    "An example bar plot with standard deviation bars:\n",
    "\n",
    "<img src=\"imgs/screen5.png\" width=200>"
   ]
  },
  {
   "cell_type": "code",
   "execution_count": null,
   "metadata": {
    "scrolled": true
   },
   "outputs": [
    {
     "data": {
      "image/png": "[encoded data removed]",
      "text/plain": [
       "<Figure size 640x480 with 1 Axes>"
      ]
     },
     "metadata": {},
     "output_type": "display_data"
    }
   ],
   "source": [
    "mean_continental_age = adults_data_copy.groupby(by=\"continents\")[\"age\"].mean()\n",
    "std_continental_age = adults_data_copy.groupby(by=\"continents\")[\"age\"].std()\n",
    "plt.bar(mean_continental_age.index, mean_continental_age.values, yerr=std_continental_age.values, capsize=5, color=[\"blue\"])\n",
    "plt.xlabel(\"Continents\")\n",
    "plt.ylabel(\"Age\")\n",
    "plt.show()"
   ]
  },
  {
   "cell_type": "markdown",
   "metadata": {},
   "source": [
    "Q12. To reduce the dimensionality of this dataset via feature selection, which attribute or attributes would you eliminate? Explain why as a comment."
   ]
  },
  {
   "cell_type": "code",
   "execution_count": null,
   "metadata": {
    "scrolled": true
   },
   "outputs": [
    {
     "data": {
      "text/plain": [
       "'Explain here (as a comment):\\n\\n'"
      ]
     },
     "execution_count": 70,
     "metadata": {},
     "output_type": "execute_result"
    }
   ],
   "source": [
    "'''Explain here (as a comment):\n",
    "Not sure what relationship is or why it exists, this could potentially be very redundant with Married though. Also, education-num and education are very redundant\n",
    "because knowing someone has a bachelors is significantly more useful than knowing someone is educated to \"13\".\n",
    "'''"
   ]
  },
  {
   "cell_type": "markdown",
   "metadata": {},
   "source": [
    "## Part 2: Data Scaling and Dimensionality Reduction\n",
    "\n",
    "For this part you'll be using a subset of the leaf dataset created by professors from University of Porto, Portugal. This dataset consists in a collection of shape and texture features extracted from digital images of leaf specimens originating from a total of 40 different plant species, but for the purpose of this assignment we're only going to consider 4 plant species.\n",
    "\n",
    "<img src=\"imgs/screen4.png\">"
   ]
  },
  {
   "cell_type": "markdown",
   "metadata": {},
   "source": [
    "Q13. Read the dataset from `leaf.csv` into a dataframe. Display the head of the dataframe."
   ]
  },
  {
   "cell_type": "code",
   "execution_count": null,
   "metadata": {
    "scrolled": true
   },
   "outputs": [
    {
     "name": "stdout",
     "output_type": "stream",
     "text": [
      "   class  eccentricity  aspect-ratio  elongation  solidity  \\\n",
      "0      1           NaN        1.0118     0.63010   0.57134   \n",
      "1      4       0.99512       10.3770     0.90564   0.92135   \n",
      "2      3       0.19287        1.0551     0.25044   0.93641   \n",
      "3      1       0.52212        1.1191     0.70988   0.50678   \n",
      "4      3       0.33254        1.1208     0.27473   0.93625   \n",
      "\n",
      "   stochastic-convexity  isoperimetric-factor  maximal-indentation-depth  \\\n",
      "0               0.81053               0.16187                   0.111150   \n",
      "1               0.99825               0.17941                   0.016647   \n",
      "2               0.99474               0.47284                   0.019693   \n",
      "3               0.64912               0.14120                   0.131920   \n",
      "4               0.99474               0.49836                   0.024394   \n",
      "\n",
      "   lobedness  average-intensity  average-contrast  smoothness  third-moment  \\\n",
      "0   2.248600           0.027309          0.088889    0.007839      0.002273   \n",
      "1   0.050433           0.020400          0.071662    0.005109      0.001266   \n",
      "2   0.070581           0.055935          0.130300    0.016694      0.004583   \n",
      "3   3.167400           0.025478          0.085964    0.007336      0.002179   \n",
      "4   0.108300           0.108090          0.168820    0.027709      0.005981   \n",
      "\n",
      "   uniformity  entropy  \n",
      "0    0.000175  0.86000  \n",
      "1    0.000170  0.71514  \n",
      "2    0.000440  1.41110  \n",
      "3    0.000149  0.82809  \n",
      "4    0.001234  2.48660  \n"
     ]
    }
   ],
   "source": [
    "leaves = pd.read_csv('leaf.csv', skipinitialspace=True, na_values='?')\n",
    "print(leaves.head())"
   ]
  },
  {
   "cell_type": "markdown",
   "metadata": {},
   "source": [
    "Q14. Eccentricity of the leaf is a measure of how much the shape of the leaf varies from a perfect circle. Unfortunately the dataset is missing values in the `eccentricity` column. As a comment, explain how you would handle these missing values, then go ahead and handle them (in code). Display the resulting head of the dataframe."
   ]
  },
  {
   "cell_type": "code",
   "execution_count": null,
   "metadata": {
    "scrolled": true
   },
   "outputs": [
    {
     "name": "stdout",
     "output_type": "stream",
     "text": [
      "   class  eccentricity  aspect-ratio  elongation  solidity  \\\n",
      "0      1      0.415627        1.0118     0.63010   0.57134   \n",
      "1      4      0.995120       10.3770     0.90564   0.92135   \n",
      "2      3      0.192870        1.0551     0.25044   0.93641   \n",
      "3      1      0.522120        1.1191     0.70988   0.50678   \n",
      "4      3      0.332540        1.1208     0.27473   0.93625   \n",
      "\n",
      "   stochastic-convexity  isoperimetric-factor  maximal-indentation-depth  \\\n",
      "0               0.81053               0.16187                   0.111150   \n",
      "1               0.99825               0.17941                   0.016647   \n",
      "2               0.99474               0.47284                   0.019693   \n",
      "3               0.64912               0.14120                   0.131920   \n",
      "4               0.99474               0.49836                   0.024394   \n",
      "\n",
      "   lobedness  average-intensity  average-contrast  smoothness  third-moment  \\\n",
      "0   2.248600           0.027309          0.088889    0.007839      0.002273   \n",
      "1   0.050433           0.020400          0.071662    0.005109      0.001266   \n",
      "2   0.070581           0.055935          0.130300    0.016694      0.004583   \n",
      "3   3.167400           0.025478          0.085964    0.007336      0.002179   \n",
      "4   0.108300           0.108090          0.168820    0.027709      0.005981   \n",
      "\n",
      "   uniformity  entropy  \n",
      "0    0.000175  0.86000  \n",
      "1    0.000170  0.71514  \n",
      "2    0.000440  1.41110  \n",
      "3    0.000149  0.82809  \n",
      "4    0.001234  2.48660  \n"
     ]
    }
   ],
   "source": [
    "\"\"\"Just from a quick glance, it seems to be related to class of leaf, so I would fill based on the mean of that class\"\"\"\n",
    "mean_leaf_eccentricity = leaves.groupby(by=\"class\")[\"eccentricity\"].mean()\n",
    "leaves[\"eccentricity\"] = leaves.groupby(\"class\")[\"eccentricity\"].transform(lambda x: x.fillna(x.mean()))\n",
    "print(leaves.head())\n"
   ]
  },
  {
   "cell_type": "markdown",
   "metadata": {},
   "source": [
    "Q15. Data scaling: Standardize the features in the `leaf_data` dataset so that all of the features are on the same scale.\n",
    "\n",
    "* Use `sklearn.preprocessing.StandardScaler` to standardize the dataset’s features. Call `.fit_transform` to calculate the scaled data (fit) and replace the existing data with the scaled data (transform).\n",
    "* Note that `fit_transform` returns a numpy array. Put your scaled data back into a DataFrame by doing something like this (subsitute your variable names): `scaled_data = DataFrame(numpy_array_data, columns=leaf_data.columns)`\n",
    "* Display something to show that the data has been scaled correctly (the head of the data frame, *and/or* the mean of each column which should be ~0, *and/or* the standard deviation of each column which should be ~1.)"
   ]
  },
  {
   "cell_type": "code",
   "execution_count": null,
   "metadata": {},
   "outputs": [
    {
     "name": "stdout",
     "output_type": "stream",
     "text": [
      "Means\n",
      " class                       -4.483593e-17\n",
      "eccentricity                -1.211638e-16\n",
      "aspect-ratio                -5.337611e-18\n",
      "elongation                   3.095814e-16\n",
      "solidity                     7.301851e-16\n",
      "stochastic-convexity         5.316260e-16\n",
      "isoperimetric-factor         1.313052e-16\n",
      "maximal-indentation-depth    1.558582e-16\n",
      "lobedness                    1.067522e-16\n",
      "average-intensity           -2.049643e-16\n",
      "average-contrast            -4.611696e-16\n",
      "smoothness                   4.270089e-17\n",
      "third-moment                -1.195625e-16\n",
      "uniformity                   3.416071e-17\n",
      "entropy                     -3.416071e-17\n",
      "dtype: float64\n",
      "Standard Deviations\n",
      " class                        1.009756\n",
      "eccentricity                 1.009756\n",
      "aspect-ratio                 1.009756\n",
      "elongation                   1.009756\n",
      "solidity                     1.009756\n",
      "stochastic-convexity         1.009756\n",
      "isoperimetric-factor         1.009756\n",
      "maximal-indentation-depth    1.009756\n",
      "lobedness                    1.009756\n",
      "average-intensity            1.009756\n",
      "average-contrast             1.009756\n",
      "smoothness                   1.009756\n",
      "third-moment                 1.009756\n",
      "uniformity                   1.009756\n",
      "entropy                      1.009756\n",
      "dtype: float64\n"
     ]
    }
   ],
   "source": [
    "scaler = StandardScaler()\n",
    "scaled_data = scaler.fit_transform(leaves)\n",
    "scaled_leaves = pd.DataFrame(scaled_data, columns=leaves.columns)\n",
    "print(f\"Means\\n {scaled_leaves.mean()}\")\n",
    "\n",
    "print(f\"Standard Deviations\\n {scaled_leaves.std()}\")\n"
   ]
  },
  {
   "cell_type": "markdown",
   "metadata": {},
   "source": [
    "Q16. Dimensionality reduction using PCA\n",
    "\n",
    "* Use `sklearn.decomposition.PCA` to perform PCA on the **scaled** data.\n",
    "* Set `n_components` to 0.95 and `svd_solver` to 'full', so that the PCA will reduce the number of dimensions to however many dimensions are necessary to retain 95% of the variance. \n",
    "* Use `.fit_transform` to calculate the dimensionality reduction (fit) and to replace the existing data with the transformed data (transform). \n",
    "* Note that `fit_transform` returns a numpy array. Put the transformed data back into a Pandas DataFrame by doing something like this (subsitute your variable names): `pca_data = DataFrame(numpy_array_data)`\n",
    "* Show the head of the resulting DataFrame to make sure the dimensionality has actually been reduced."
   ]
  },
  {
   "cell_type": "code",
   "execution_count": null,
   "metadata": {
    "scrolled": true
   },
   "outputs": [
    {
     "name": "stdout",
     "output_type": "stream",
     "text": [
      "          0         1         2         3\n",
      "0 -1.829002 -1.888197  0.022065 -0.091680\n",
      "1 -1.376523  3.246110 -1.221339  0.238521\n",
      "2  2.412789 -0.210715  0.507290 -1.111356\n",
      "3 -2.648967 -2.455226 -0.458040  0.219275\n",
      "4  4.910001 -1.109855 -1.218397  0.154251\n"
     ]
    }
   ],
   "source": [
    "pca = PCA(n_components=0.95, svd_solver=\"full\")\n",
    "pca_leaves_data = pca.fit_transform(scaled_leaves)\n",
    "pcas_leaves = pd.DataFrame(pca_leaves_data)\n",
    "print(pcas_leaves.head())"
   ]
  },
  {
   "cell_type": "markdown",
   "metadata": {},
   "source": [
    "Q17. In your own words, explain (as a comment) what has just happened to the data and why your dataframe now contains what it contains. "
   ]
  },
  {
   "cell_type": "code",
   "execution_count": null,
   "metadata": {},
   "outputs": [
    {
     "data": {
      "text/plain": [
       "'\\nPrincipal component analysis was applied to my data. This created just enough dimensions that are linear combinations of my original features to maintain 95% of the variance\\nin my data set. The columns now represent the principal axes. PCA essentially ensures that none of the axes are correlated, allowing us to perform faster data processing since\\nthere is less stuff to go through.\\n'"
      ]
     },
     "execution_count": 127,
     "metadata": {},
     "output_type": "execute_result"
    }
   ],
   "source": [
    "\"\"\"\n",
    "Principal component analysis was applied to my data. This created just enough dimensions that are linear combinations of my original features to maintain 95% of the variance\n",
    "in my data set. The columns now represent the principal axes. PCA essentially ensures that none of the axes are correlated, allowing us to perform faster data processing since\n",
    "there is less stuff to go through.\n",
    "\"\"\""
   ]
  }
 ],
 "metadata": {
  "kernelspec": {
   "display_name": "Python 3",
   "language": "python",
   "name": "python3"
  },
  "language_info": {
   "codemirror_mode": {
    "name": "ipython",
    "version": 3
   },
   "file_extension": ".py",
   "mimetype": "text/x-python",
   "name": "python",
   "nbconvert_exporter": "python",
   "pygments_lexer": "ipython3",
   "version": "3.11.5"
  }
 },
 "nbformat": 4,
 "nbformat_minor": 4
}
