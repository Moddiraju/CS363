{
 "cells": [
  {
   "cell_type": "markdown",
   "metadata": {},
   "source": [
    "Name(s):"
   ]
  },
  {
   "cell_type": "markdown",
   "metadata": {},
   "source": [
    "# HW 6: Q-Learning and Association Analysis"
   ]
  },
  {
   "cell_type": "markdown",
   "metadata": {},
   "source": [
    "## Part 1: Q-Learning\n",
    "\n",
    "For the first part of this assignment, you'll code an ML agent that uses Q-Learning to learn how to play Snake.\n",
    "\n",
    "<img src=\"snake_game.jpg\" width=\"300\"/>\n",
    "\n",
    "\n",
    "If you are not familiar with the game of Snake, read about how the game is played, and even play it yourself, [here](https://www.coolmathgames.com/blog/how-to-play-snake-mastering-a-classic). \n",
    "\n",
    "Once you understand how to play the game, continue with the assignment!"
   ]
  },
  {
   "cell_type": "markdown",
   "metadata": {},
   "source": [
    "#### Imports"
   ]
  },
  {
   "cell_type": "code",
   "execution_count": 43,
   "metadata": {},
   "outputs": [
    {
     "name": "stdout",
     "output_type": "stream",
     "text": [
      "Requirement already satisfied: pygame in c:\\users\\moddi\\appdata\\local\\programs\\python\\python311\\lib\\site-packages (2.6.1)\n"
     ]
    },
    {
     "name": "stderr",
     "output_type": "stream",
     "text": [
      "\n",
      "[notice] A new release of pip is available: 25.0.1 -> 25.1\n",
      "[notice] To update, run: python.exe -m pip install --upgrade pip\n"
     ]
    }
   ],
   "source": [
    "# you will need pygame installed\n",
    "!pip install pygame"
   ]
  },
  {
   "cell_type": "code",
   "execution_count": 44,
   "metadata": {},
   "outputs": [],
   "source": [
    "import pygame\n",
    "import random\n",
    "import numpy as np\n",
    "\n",
    "import pickle as pkl\n",
    "import itertools\n",
    "\n",
    "# the environment is provided in game_loop.py\n",
    "from game_loop import *"
   ]
  },
  {
   "cell_type": "markdown",
   "metadata": {},
   "source": [
    "### Game States\n",
    "For Q-Learning, the agent needs to keep a Q-Table of game states. To keep the number of possible game states manageable, we will define the game state as a combination of:\n",
    "* Horizontal orientation from the food - is the food currently to the left or the right of the snake's head? (-1: left, 0: same, 1: right)\n",
    "* Vertical orientation from the food - is the food currently above or below the snake's head? (-1: below, 0: same, 1: above) \n",
    "* What are in the squares adjacent to the snake's head - are there walls or snake tail in these squares? (1 indicates something is there, 0 indicates it is open)\n",
    "\n",
    "The environment (which is in the provided `game_loop.py` file) will provide this state in the form of two tuples:\n",
    "- The first tuple will contain (relative horizontal orientation to food, relative vertical orientation to food).\n",
    "- The second tuple will contain the squares surrounding the snake's head in the form of (up, down, left, right) where a 1 indicates wall or tail is in that square and 0 indicates that square is open.\n",
    "\n",
    "### Snake Agent\n",
    "Below is a provided class for the SnakeAgent that will learn to play the game, using Q-Learning. \n",
    "\n",
    "Some methods have been provided for you - **do not change these**:\n",
    "* `__init__`: The constructor sets up some constants and sets the learning parameter values. Do not change the learning parameter values for part 1 of this assignment. It also calls init_qtable to initialize the Q-Table. \n",
    "* `init_qtable`: Initializes the Q-Table. The `qtable` is implemented as a dictionary of state -> list of four Q-Values, representing the four action choices of [left, right, up, down].\n",
    "* `save` and `load`: Saves the Q-Values (via pickle) so the agent can be re-loaded later via load.\n",
    "\n",
    "There are two additional methods in the SnakeAgent class **that you will implement**. These will be called by the `game_loop.py` file.\n",
    "* `act`: This method is responsible for selecting an action based on the current state.\n",
    "* `update`: This where the Q-values get updated based on the agent's actions and rewards during gameplay.\n"
   ]
  },
  {
   "cell_type": "markdown",
   "metadata": {},
   "source": [
    "### Implementation\n",
    "\n",
    "Q1. Implement the `act` method in the SnakeAgent class.\n",
    "\n",
    "The `act` method is responsible for selecting an action based on the current state, which is determined by the Snake's position and the relative position of the food. The agent can choose to explore randomly with a probability of epsilon or to exploit the learned Q-values to select the next action.\n",
    "\n",
    "In this method, you should:\n",
    "- Based on the current state, choose an action using an epsilon-greedy strategy\n",
    "  - Explore: Select a random action (0: left, 1: right, 2: up, 3: down)\n",
    "  - Exploit: Select the action with the highest Q-value for the current state\n",
    "- Record the current state and action, as you'll need these later for the update method (use `self.curr_state` and `self.curr_act`)\n",
    "- Return the chosen action as a string (use `self.ACTION_STRING_MAP` in the SnakeAgent class)"
   ]
  },
  {
   "cell_type": "markdown",
   "metadata": {},
   "source": [
    "Q2. Implement the `update` method in the SnakeAgent class.\n",
    "\n",
    "The `update` method is a critical part of your SnakeAgent's learning process. It's where you update the Q-values based on the agent's actions and rewards during gameplay. Follow these steps to implement the `update` function:\n",
    "\n",
    "**Rewards**:\n",
    "Positive rewards are given for favorable actions, and negative rewards are given for unfavorable ones.\n",
    "- Check if the game is over using the `game_over` parameter. If it is over, give the agent a reward of -10 to indicate that the agent has lost the game.\n",
    "- If the game is not over, calculate the reward as follows: \n",
    "    - If the snake got closer to the food or if it ate the food, then set the reward to +1. \n",
    "    - If the snake got farther from the food or did not eat the food, then set the reward to -1.\n",
    "You can use `self.curr_dist_from_food` and the incoming parameter from the environment `dist_from_food` to help you determine this.\n",
    "    \n",
    "**Update the Q-value for the state-action pair**:\n",
    "- With the current state and action, update the Q-value for this state-action pair using the Q-learning formula, where `max(Q(s_t_plus_1))` is the maximum Q-value for the next state:\n",
    "$$\n",
    "Q(s_t, a_t) = Q(s_t, a_t) + \\alpha \\cdot (R_t + \\gamma \\cdot \\max_a Q(s_{t+1}, a) - Q(s_t, a_t))\n",
    "$$"
   ]
  },
  {
   "cell_type": "code",
   "execution_count": 45,
   "metadata": {},
   "outputs": [],
   "source": [
    "class SnakeAgent(object):\n",
    "    '''\n",
    "    Do not change this code, except for the 'act' and 'update' methods.\n",
    "    '''\n",
    "    def __init__(self, DIS_WIDTH, DIS_HEIGHT, BLOCK_SIZE):\n",
    "\n",
    "        self.ACTION_STRING_MAP = {0: \"left\", 1: \"right\", 2: \"up\", 3: \"down\"}\n",
    "\n",
    "        # Learning parameters - do not change these for Part 1\n",
    "        self.epsilon = 0.1 # exploration rate\n",
    "        self.alpha = 0.7 # learning rate\n",
    "        self.gamma = 0.5 # discount factor\n",
    "\n",
    "        # Initialize the Q-Table\n",
    "        self.init_qtable()\n",
    "        \n",
    "        # State/Action history\n",
    "        self.curr_state = None\n",
    "        self.curr_act = None\n",
    "        self.curr_dist_from_food = 1000\n",
    "\n",
    "    def init_qtable(self):\n",
    "        '''Initialize the qtable to all 0s'''\n",
    "        self.qtable = {}\n",
    "        REL_Y = [-1, 0, 1] # [below, same, above]\n",
    "        REL_X = [-1, 0, 1] # [left, same, right]\n",
    "        SURROUNDINGS = list(itertools.product(*[[0,1]] * 4)) # [0, 1] possibilities for surrounding block in each direction\n",
    "        for y in REL_X:\n",
    "            for x in REL_Y:\n",
    "                for s in SURROUNDINGS:\n",
    "                    self.qtable[QState((x, y), tuple(s))] = [0, 0, 0, 0] # q values for actions [left, right, up, down]\n",
    "\n",
    "    def load(self, path=\"qtable.pkl\"):\n",
    "        return pkl.load(open(path, \"rb\"))\n",
    "\n",
    "    def save(self, path=\"qtable.pkl\"):\n",
    "        pkl.dump(self.qtable, open(path, \"wb\"))\n",
    "        \n",
    "    \n",
    "    '''\n",
    "    Implement these methods:\n",
    "    '''\n",
    "    def act(self, state):\n",
    "        if random.random() < self.epsilon:\n",
    "            action = random.choice([0, 1, 2, 3])\n",
    "        else:\n",
    "            q_values = self.qtable[state]\n",
    "            action = np.argmax(q_values)\n",
    "        \n",
    "        self.curr_state = state\n",
    "        self.curr_act = action\n",
    "\n",
    "        return self.ACTION_STRING_MAP[action]\n",
    "    \n",
    "    def update(self, game_over, dist_from_food, new_state):  \n",
    "        if game_over:\n",
    "            reward = -10\n",
    "        else:\n",
    "            if dist_from_food < self.curr_dist_from_food:\n",
    "                reward = 1\n",
    "            else:\n",
    "                reward = -1\n",
    "        \n",
    "        old_q_value = self.qtable[self.curr_state][self.curr_act]\n",
    "        future_q_values = self.qtable[new_state]\n",
    "        max_future_q = max(future_q_values)\n",
    "        new_q = old_q_value + self.alpha * (reward + self.gamma * max_future_q - old_q_value)\n",
    "        self.qtable[self.curr_state][self.curr_act] = new_q\n",
    "        self.curr_dist_from_food = dist_from_food\n",
    "    \n"
   ]
  },
  {
   "cell_type": "markdown",
   "metadata": {},
   "source": [
    "### Game Loop\n",
    "The code in this cell will kick off the game, using your SnakeAgent, and will let your agent play for the specified number of eqisodes, keeping track of the scores as your agent learns how to play. "
   ]
  },
  {
   "cell_type": "code",
   "execution_count": 46,
   "metadata": {},
   "outputs": [
    {
     "name": "stdout",
     "output_type": "stream",
     "text": [
      "Games: 1; Score: 1; Max Score: 1\n",
      "Games: 2; Score: 1; Max Score: 1\n",
      "Games: 3; Score: 1; Max Score: 1\n",
      "Games: 4; Score: 1; Max Score: 1\n",
      "Games: 5; Score: 1; Max Score: 1\n",
      "Games: 6; Score: 1; Max Score: 1\n",
      "Games: 7; Score: 1; Max Score: 1\n",
      "Games: 8; Score: 1; Max Score: 1\n",
      "Games: 9; Score: 1; Max Score: 1\n",
      "Games: 10; Score: 1; Max Score: 1\n",
      "Games: 11; Score: 1; Max Score: 1\n",
      "Games: 12; Score: 1; Max Score: 1\n",
      "Games: 13; Score: 1; Max Score: 1\n",
      "Games: 14; Score: 1; Max Score: 1\n",
      "Games: 15; Score: 1; Max Score: 1\n",
      "Games: 16; Score: 1; Max Score: 1\n",
      "Games: 17; Score: 1; Max Score: 1\n",
      "Games: 18; Score: 1; Max Score: 1\n",
      "Games: 19; Score: 1; Max Score: 1\n",
      "Games: 20; Score: 1; Max Score: 1\n",
      "Games: 21; Score: 1; Max Score: 1\n",
      "Games: 22; Score: 2; Max Score: 2\n",
      "Games: 23; Score: 1; Max Score: 2\n",
      "Games: 24; Score: 1; Max Score: 2\n",
      "Games: 25; Score: 2; Max Score: 2\n",
      "Games: 26; Score: 1; Max Score: 2\n",
      "Games: 27; Score: 1; Max Score: 2\n",
      "Games: 28; Score: 1; Max Score: 2\n",
      "Games: 29; Score: 2; Max Score: 2\n",
      "Games: 30; Score: 1; Max Score: 2\n",
      "Games: 31; Score: 3; Max Score: 3\n",
      "Games: 32; Score: 1; Max Score: 3\n",
      "Games: 33; Score: 1; Max Score: 3\n",
      "Games: 34; Score: 2; Max Score: 3\n",
      "Games: 35; Score: 4; Max Score: 4\n",
      "Games: 36; Score: 2; Max Score: 4\n",
      "Games: 37; Score: 1; Max Score: 4\n",
      "Games: 38; Score: 2; Max Score: 4\n",
      "Games: 39; Score: 2; Max Score: 4\n",
      "Games: 40; Score: 1; Max Score: 4\n",
      "Games: 41; Score: 1; Max Score: 4\n",
      "Games: 42; Score: 3; Max Score: 4\n",
      "Games: 43; Score: 2; Max Score: 4\n",
      "Games: 44; Score: 3; Max Score: 4\n",
      "Games: 45; Score: 0; Max Score: 4\n",
      "Games: 46; Score: 1; Max Score: 4\n",
      "Games: 47; Score: 2; Max Score: 4\n",
      "Games: 48; Score: 1; Max Score: 4\n",
      "Games: 49; Score: 1; Max Score: 4\n",
      "Games: 50; Score: 1; Max Score: 4\n",
      "Games: 51; Score: 2; Max Score: 4\n",
      "Games: 52; Score: 1; Max Score: 4\n",
      "Games: 53; Score: 3; Max Score: 4\n",
      "Games: 54; Score: 1; Max Score: 4\n",
      "Games: 55; Score: 2; Max Score: 4\n",
      "Games: 56; Score: 3; Max Score: 4\n",
      "Games: 57; Score: 1; Max Score: 4\n",
      "Games: 58; Score: 1; Max Score: 4\n",
      "Games: 59; Score: 3; Max Score: 4\n",
      "Games: 60; Score: 1; Max Score: 4\n",
      "Games: 61; Score: 3; Max Score: 4\n",
      "Games: 62; Score: 1; Max Score: 4\n",
      "Games: 63; Score: 2; Max Score: 4\n",
      "Games: 64; Score: 2; Max Score: 4\n",
      "Games: 65; Score: 3; Max Score: 4\n",
      "Games: 66; Score: 3; Max Score: 4\n",
      "Games: 67; Score: 1; Max Score: 4\n",
      "Games: 68; Score: 2; Max Score: 4\n",
      "Games: 69; Score: 1; Max Score: 4\n",
      "Games: 70; Score: 1; Max Score: 4\n",
      "Games: 71; Score: 1; Max Score: 4\n",
      "Games: 72; Score: 3; Max Score: 4\n",
      "Games: 73; Score: 1; Max Score: 4\n",
      "Games: 74; Score: 1; Max Score: 4\n",
      "Games: 75; Score: 1; Max Score: 4\n",
      "Games: 76; Score: 1; Max Score: 4\n",
      "Games: 77; Score: 1; Max Score: 4\n",
      "Games: 78; Score: 1; Max Score: 4\n",
      "Games: 79; Score: 3; Max Score: 4\n",
      "Games: 80; Score: 1; Max Score: 4\n",
      "Games: 81; Score: 5; Max Score: 5\n",
      "Games: 82; Score: 2; Max Score: 5\n",
      "Games: 83; Score: 2; Max Score: 5\n",
      "Games: 84; Score: 1; Max Score: 5\n",
      "Games: 85; Score: 1; Max Score: 5\n",
      "Games: 86; Score: 2; Max Score: 5\n",
      "Games: 87; Score: 1; Max Score: 5\n",
      "Games: 88; Score: 2; Max Score: 5\n",
      "Games: 89; Score: 1; Max Score: 5\n",
      "Games: 90; Score: 1; Max Score: 5\n",
      "Games: 91; Score: 1; Max Score: 5\n",
      "Games: 92; Score: 3; Max Score: 5\n",
      "Games: 93; Score: 2; Max Score: 5\n",
      "Games: 94; Score: 1; Max Score: 5\n",
      "Games: 95; Score: 1; Max Score: 5\n",
      "Games: 96; Score: 2; Max Score: 5\n",
      "Games: 97; Score: 1; Max Score: 5\n",
      "Games: 98; Score: 2; Max Score: 5\n",
      "Games: 99; Score: 1; Max Score: 5\n",
      "Games: 100; Score: 1; Max Score: 5\n",
      "Games: 101; Score: 3; Max Score: 5\n",
      "Games: 102; Score: 1; Max Score: 5\n",
      "Games: 103; Score: 3; Max Score: 5\n",
      "Games: 104; Score: 2; Max Score: 5\n",
      "Games: 105; Score: 5; Max Score: 5\n",
      "Games: 106; Score: 5; Max Score: 5\n",
      "Games: 107; Score: 4; Max Score: 5\n",
      "Games: 108; Score: 9; Max Score: 9\n",
      "Games: 109; Score: 8; Max Score: 9\n",
      "Games: 110; Score: 12; Max Score: 12\n",
      "Games: 111; Score: 4; Max Score: 12\n",
      "Games: 112; Score: 3; Max Score: 12\n",
      "Games: 113; Score: 4; Max Score: 12\n",
      "Games: 114; Score: 12; Max Score: 12\n",
      "Games: 115; Score: 12; Max Score: 12\n",
      "Games: 116; Score: 1; Max Score: 12\n",
      "Games: 117; Score: 1; Max Score: 12\n",
      "Games: 118; Score: 5; Max Score: 12\n",
      "Games: 119; Score: 14; Max Score: 14\n",
      "Games: 120; Score: 1; Max Score: 14\n",
      "Games: 121; Score: 7; Max Score: 14\n",
      "Games: 122; Score: 6; Max Score: 14\n",
      "Games: 123; Score: 6; Max Score: 14\n",
      "Games: 124; Score: 5; Max Score: 14\n",
      "Games: 125; Score: 4; Max Score: 14\n",
      "Games: 126; Score: 2; Max Score: 14\n",
      "Games: 127; Score: 1; Max Score: 14\n",
      "Games: 128; Score: 4; Max Score: 14\n",
      "Games: 129; Score: 1; Max Score: 14\n",
      "Games: 130; Score: 6; Max Score: 14\n",
      "Games: 131; Score: 3; Max Score: 14\n",
      "Games: 132; Score: 12; Max Score: 14\n",
      "Games: 133; Score: 11; Max Score: 14\n",
      "Games: 134; Score: 6; Max Score: 14\n",
      "Games: 135; Score: 1; Max Score: 14\n",
      "Games: 136; Score: 2; Max Score: 14\n",
      "Games: 137; Score: 13; Max Score: 14\n",
      "Games: 138; Score: 3; Max Score: 14\n",
      "Games: 139; Score: 1; Max Score: 14\n",
      "Games: 140; Score: 1; Max Score: 14\n",
      "Games: 141; Score: 1; Max Score: 14\n",
      "Games: 142; Score: 8; Max Score: 14\n",
      "Games: 143; Score: 4; Max Score: 14\n",
      "Games: 144; Score: 5; Max Score: 14\n",
      "Games: 145; Score: 6; Max Score: 14\n",
      "Games: 146; Score: 1; Max Score: 14\n",
      "Games: 147; Score: 8; Max Score: 14\n",
      "Games: 148; Score: 8; Max Score: 14\n",
      "Games: 149; Score: 1; Max Score: 14\n",
      "Games: 150; Score: 3; Max Score: 14\n",
      "Games: 151; Score: 3; Max Score: 14\n",
      "Games: 152; Score: 3; Max Score: 14\n",
      "Games: 153; Score: 2; Max Score: 14\n",
      "Games: 154; Score: 1; Max Score: 14\n",
      "Games: 155; Score: 5; Max Score: 14\n",
      "Games: 156; Score: 2; Max Score: 14\n",
      "Games: 157; Score: 3; Max Score: 14\n",
      "Games: 158; Score: 7; Max Score: 14\n",
      "Games: 159; Score: 4; Max Score: 14\n",
      "Games: 160; Score: 6; Max Score: 14\n",
      "Games: 161; Score: 10; Max Score: 14\n",
      "Games: 162; Score: 6; Max Score: 14\n",
      "Games: 163; Score: 4; Max Score: 14\n",
      "Games: 164; Score: 9; Max Score: 14\n",
      "Games: 165; Score: 3; Max Score: 14\n",
      "Games: 166; Score: 1; Max Score: 14\n",
      "Games: 167; Score: 5; Max Score: 14\n",
      "Games: 168; Score: 5; Max Score: 14\n",
      "Games: 169; Score: 5; Max Score: 14\n",
      "Games: 170; Score: 2; Max Score: 14\n",
      "Games: 171; Score: 3; Max Score: 14\n",
      "Games: 172; Score: 4; Max Score: 14\n",
      "Games: 173; Score: 5; Max Score: 14\n",
      "Games: 174; Score: 3; Max Score: 14\n",
      "Games: 175; Score: 3; Max Score: 14\n",
      "Games: 176; Score: 4; Max Score: 14\n",
      "Games: 177; Score: 3; Max Score: 14\n",
      "Games: 178; Score: 13; Max Score: 14\n",
      "Games: 179; Score: 5; Max Score: 14\n",
      "Games: 180; Score: 3; Max Score: 14\n",
      "Games: 181; Score: 1; Max Score: 14\n",
      "Games: 182; Score: 1; Max Score: 14\n",
      "Games: 183; Score: 3; Max Score: 14\n",
      "Games: 184; Score: 5; Max Score: 14\n",
      "Games: 185; Score: 6; Max Score: 14\n",
      "Games: 186; Score: 6; Max Score: 14\n",
      "Games: 187; Score: 12; Max Score: 14\n",
      "Games: 188; Score: 11; Max Score: 14\n",
      "Games: 189; Score: 3; Max Score: 14\n",
      "Games: 190; Score: 7; Max Score: 14\n",
      "Games: 191; Score: 11; Max Score: 14\n",
      "Games: 192; Score: 2; Max Score: 14\n",
      "Games: 193; Score: 2; Max Score: 14\n",
      "Games: 194; Score: 6; Max Score: 14\n",
      "Games: 195; Score: 1; Max Score: 14\n",
      "Games: 196; Score: 11; Max Score: 14\n",
      "Games: 197; Score: 4; Max Score: 14\n",
      "Games: 198; Score: 8; Max Score: 14\n",
      "Games: 199; Score: 2; Max Score: 14\n",
      "Games: 200; Score: 3; Max Score: 14\n",
      "Games: 201; Score: 8; Max Score: 14\n",
      "Games: 202; Score: 5; Max Score: 14\n",
      "Games: 203; Score: 1; Max Score: 14\n",
      "Games: 204; Score: 13; Max Score: 14\n",
      "Games: 205; Score: 8; Max Score: 14\n",
      "Games: 206; Score: 7; Max Score: 14\n",
      "Games: 207; Score: 11; Max Score: 14\n",
      "Games: 208; Score: 1; Max Score: 14\n",
      "Games: 209; Score: 5; Max Score: 14\n",
      "Games: 210; Score: 13; Max Score: 14\n",
      "Games: 211; Score: 14; Max Score: 14\n",
      "Games: 212; Score: 8; Max Score: 14\n",
      "Games: 213; Score: 4; Max Score: 14\n",
      "Games: 214; Score: 7; Max Score: 14\n",
      "Games: 215; Score: 8; Max Score: 14\n",
      "Games: 216; Score: 6; Max Score: 14\n",
      "Games: 217; Score: 8; Max Score: 14\n",
      "Games: 218; Score: 1; Max Score: 14\n",
      "Games: 219; Score: 3; Max Score: 14\n",
      "Games: 220; Score: 13; Max Score: 14\n",
      "Games: 221; Score: 3; Max Score: 14\n",
      "Games: 222; Score: 7; Max Score: 14\n",
      "Games: 223; Score: 1; Max Score: 14\n",
      "Games: 224; Score: 8; Max Score: 14\n",
      "Games: 225; Score: 7; Max Score: 14\n",
      "Games: 226; Score: 4; Max Score: 14\n",
      "Games: 227; Score: 5; Max Score: 14\n",
      "Games: 228; Score: 1; Max Score: 14\n",
      "Games: 229; Score: 14; Max Score: 14\n",
      "Games: 230; Score: 10; Max Score: 14\n",
      "Games: 231; Score: 8; Max Score: 14\n",
      "Games: 232; Score: 15; Max Score: 15\n",
      "Games: 233; Score: 21; Max Score: 21\n",
      "Games: 234; Score: 4; Max Score: 21\n",
      "Games: 235; Score: 2; Max Score: 21\n",
      "Games: 236; Score: 8; Max Score: 21\n",
      "Games: 237; Score: 10; Max Score: 21\n",
      "Games: 238; Score: 4; Max Score: 21\n",
      "Games: 239; Score: 4; Max Score: 21\n",
      "Games: 240; Score: 5; Max Score: 21\n",
      "Games: 241; Score: 6; Max Score: 21\n",
      "Games: 242; Score: 1; Max Score: 21\n",
      "Games: 243; Score: 9; Max Score: 21\n",
      "Games: 244; Score: 18; Max Score: 21\n",
      "Games: 245; Score: 5; Max Score: 21\n",
      "Games: 246; Score: 20; Max Score: 21\n",
      "Games: 247; Score: 4; Max Score: 21\n",
      "Games: 248; Score: 11; Max Score: 21\n",
      "Games: 249; Score: 13; Max Score: 21\n",
      "Games: 250; Score: 7; Max Score: 21\n",
      "Games: 251; Score: 7; Max Score: 21\n",
      "Games: 252; Score: 5; Max Score: 21\n",
      "Games: 253; Score: 9; Max Score: 21\n",
      "Games: 254; Score: 2; Max Score: 21\n",
      "Games: 255; Score: 11; Max Score: 21\n",
      "Games: 256; Score: 4; Max Score: 21\n",
      "Games: 257; Score: 1; Max Score: 21\n",
      "Games: 258; Score: 3; Max Score: 21\n",
      "Games: 259; Score: 10; Max Score: 21\n",
      "Games: 260; Score: 5; Max Score: 21\n",
      "Games: 261; Score: 1; Max Score: 21\n",
      "Games: 262; Score: 5; Max Score: 21\n",
      "Games: 263; Score: 1; Max Score: 21\n",
      "Games: 264; Score: 10; Max Score: 21\n",
      "Games: 265; Score: 5; Max Score: 21\n",
      "Games: 266; Score: 1; Max Score: 21\n",
      "Games: 267; Score: 15; Max Score: 21\n",
      "Games: 268; Score: 4; Max Score: 21\n",
      "Games: 269; Score: 6; Max Score: 21\n",
      "Games: 270; Score: 7; Max Score: 21\n",
      "Games: 271; Score: 9; Max Score: 21\n",
      "Games: 272; Score: 11; Max Score: 21\n",
      "Games: 273; Score: 5; Max Score: 21\n",
      "Games: 274; Score: 23; Max Score: 23\n",
      "Games: 275; Score: 9; Max Score: 23\n",
      "Games: 276; Score: 12; Max Score: 23\n",
      "Games: 277; Score: 3; Max Score: 23\n",
      "Games: 278; Score: 5; Max Score: 23\n",
      "Games: 279; Score: 2; Max Score: 23\n",
      "Games: 280; Score: 15; Max Score: 23\n",
      "Games: 281; Score: 8; Max Score: 23\n",
      "Games: 282; Score: 7; Max Score: 23\n",
      "Games: 283; Score: 9; Max Score: 23\n",
      "Games: 284; Score: 1; Max Score: 23\n",
      "Games: 285; Score: 7; Max Score: 23\n",
      "Games: 286; Score: 2; Max Score: 23\n",
      "Games: 287; Score: 5; Max Score: 23\n",
      "Games: 288; Score: 6; Max Score: 23\n",
      "Games: 289; Score: 12; Max Score: 23\n",
      "Games: 290; Score: 6; Max Score: 23\n",
      "Games: 291; Score: 5; Max Score: 23\n",
      "Games: 292; Score: 8; Max Score: 23\n",
      "Games: 293; Score: 5; Max Score: 23\n",
      "Games: 294; Score: 6; Max Score: 23\n",
      "Games: 295; Score: 5; Max Score: 23\n",
      "Games: 296; Score: 6; Max Score: 23\n",
      "Games: 297; Score: 1; Max Score: 23\n",
      "Games: 298; Score: 10; Max Score: 23\n",
      "Games: 299; Score: 5; Max Score: 23\n",
      "Games: 300; Score: 3; Max Score: 23\n",
      "Save Qvals\n"
     ]
    }
   ],
   "source": [
    "'''\n",
    "Do not change the code in this cell!\n",
    "(except for setting draw=False if you want to turn off the game visualization)\n",
    "'''\n",
    "\n",
    "pygame.init()\n",
    "\n",
    "BLOCK_SIZE = 10 \n",
    "DIS_WIDTH = 600\n",
    "DIS_HEIGHT = 500\n",
    "FRAMESPEED = 50000\n",
    "NUM_EPISODES = 300\n",
    "\n",
    "#create a SnakeAgent\n",
    "agent = SnakeAgent(DIS_WIDTH, DIS_HEIGHT, BLOCK_SIZE)\n",
    "\n",
    "game_count = 1\n",
    "max_score = 0\n",
    "\n",
    "# loop for specified number of episodes\n",
    "for i in range(NUM_EPISODES):\n",
    "    # use a decaying epsilon rate\n",
    "    if game_count > 100:\n",
    "        agent.epsilon = .01\n",
    "    # else:\n",
    "        # agent.epsilon = .1\n",
    "        \n",
    "    # Start the game\n",
    "    # (To turn off the game visualizations, you can set draw=False)\n",
    "    score = GameLoop(agent, DIS_WIDTH, DIS_HEIGHT, BLOCK_SIZE, FRAMESPEED, draw=True)\n",
    "    \n",
    "    max_score = max(max_score, score)\n",
    "    print(f\"Games: {game_count}; Score: {score}; Max Score: {max_score}\") # Output results of each game to console to monitor as agent is training\n",
    "    game_count += 1\n",
    "\n",
    "agent.save()\n",
    "print(\"Save Qvals\")\n",
    "pygame.quit()"
   ]
  },
  {
   "cell_type": "markdown",
   "metadata": {},
   "source": [
    "#### Saving and loading the trained agent\n",
    "The code above above saves your trained agent. You can use the cell below to load your trained agent and run it (so you don't have to re-train it)."
   ]
  },
  {
   "cell_type": "code",
   "execution_count": 47,
   "metadata": {},
   "outputs": [],
   "source": [
    "agent.load()\n",
    "pygame.init()\n",
    "GameLoop(agent, DIS_WIDTH, DIS_HEIGHT, BLOCK_SIZE, FRAMESPEED, draw=True)\n",
    "pygame.quit()"
   ]
  },
  {
   "cell_type": "markdown",
   "metadata": {},
   "source": [
    "### Extra Credit (+5)\n",
    "Improve the Agent's Performance. Can you get a max score above 80 within 300 episodes? \n",
    "Potential ideas: improve the state representation, change the reward function, change the hyperparameters, etc.\n",
    "\n",
    "**Copy the SnakeAgent class from above and paste a copy of it in a new cell (you can make a new cell between the SnakeAgent class and the GameLoop cell). Make any extra credit adjustments to the copy, preserving your original SnakeAgent class so that Q1 and Q2 can be graded.**\n",
    "- Write in a markdown cell what you changed and what your observations were"
   ]
  },
  {
   "cell_type": "code",
   "execution_count": 48,
   "metadata": {},
   "outputs": [],
   "source": [
    "class SnakeAgent(object):\n",
    "    '''\n",
    "    Do not change this code, except for the 'act' and 'update' methods.\n",
    "    '''\n",
    "    def __init__(self, DIS_WIDTH, DIS_HEIGHT, BLOCK_SIZE):\n",
    "\n",
    "        self.ACTION_STRING_MAP = {0: \"left\", 1: \"right\", 2: \"up\", 3: \"down\"}\n",
    "\n",
    "        # Learning parameters - do not change these for Part 1\n",
    "        self.epsilon = 0.05 # exploration rate\n",
    "        self.alpha = 0.7 # learning rate\n",
    "        self.gamma = 0.9 # discount factor\n",
    "\n",
    "        self.DIS_WIDTH = DIS_WIDTH\n",
    "        self.DIS_HEIGHT = DIS_HEIGHT\n",
    "        self.BLOCK_SIZE = BLOCK_SIZE\n",
    "\n",
    "        # Initialize the Q-Table\n",
    "        self.init_qtable()\n",
    "        \n",
    "        # State/Action history\n",
    "        self.curr_state = None\n",
    "        self.curr_act = None\n",
    "        self.curr_dist_from_food = 1000\n",
    "\n",
    "    def init_qtable(self):\n",
    "        '''Initialize the qtable to all 0s'''\n",
    "        self.qtable = {}\n",
    "        REL_X = [-1, 0, 1] # [left, same, right]\n",
    "        REL_Y = [-1, 0, 1] # [below, same, above]\n",
    "        SURROUNDINGS = list(itertools.product(*[[0,1]] * 4)) # [0, 1] possibilities for surrounding block in each direction\n",
    "        for x in REL_X: # why is y in x?\n",
    "            for y in REL_Y: #same\n",
    "                for s in SURROUNDINGS:\n",
    "                    self.qtable[QState((x, y), tuple(s))] = [0, 0, 0, 0] # q values for actions [left, right, up, down]\n",
    "\n",
    "    def load(self, path=\"qtable.pkl\"):\n",
    "        return pkl.load(open(path, \"rb\"))\n",
    "\n",
    "    def save(self, path=\"qtable.pkl\"):\n",
    "        pkl.dump(self.qtable, open(path, \"wb\"))\n",
    "        \n",
    "    \n",
    "    '''\n",
    "    Implement these methods:\n",
    "    '''\n",
    "    def act(self, state):\n",
    "        if random.random() < self.epsilon:\n",
    "            action = random.choice([0, 1, 2, 3])\n",
    "        else:\n",
    "            q_values = self.qtable[state]\n",
    "            action = np.argmax(q_values)\n",
    "        \n",
    "        self.curr_state = state\n",
    "        self.curr_act = action\n",
    "\n",
    "        return self.ACTION_STRING_MAP[action]\n",
    "    \n",
    "    def update(self, game_over, dist_from_food, new_state):\n",
    "        #stronger penalties\n",
    "        if game_over:\n",
    "            reward = -100\n",
    "        else:\n",
    "            if dist_from_food < self.curr_dist_from_food:\n",
    "                reward = 2\n",
    "            elif dist_from_food > self.curr_dist_from_food:\n",
    "                reward = -2\n",
    "            else:\n",
    "                reward = -0.5\n",
    "        \n",
    "        old_q_value = self.qtable[self.curr_state][self.curr_act]\n",
    "        future_q_values = self.qtable[new_state]\n",
    "        max_future_q = max(future_q_values)\n",
    "\n",
    "        new_q = old_q_value + self.alpha * (reward + self.gamma * max_future_q - old_q_value)\n",
    "        \n",
    "        self.qtable[self.curr_state][self.curr_act] = new_q\n",
    "        self.curr_dist_from_food = dist_from_food\n",
    "    \n"
   ]
  },
  {
   "cell_type": "code",
   "execution_count": null,
   "metadata": {},
   "outputs": [],
   "source": []
  },
  {
   "cell_type": "markdown",
   "metadata": {},
   "source": [
    "## Part 2: Association Analysis\n",
    "\n",
    "Association analysis uses machine learning to extract frequent itemsets and strong association rules from large datasets. In this assignment you'll be implementing one of the most commonly used algorithms for association rule mining - the Apriori algorithm.\n",
    "\n",
    "The dataset (`large_retail.txt`) that we are going to use has been adapted from the [Retail Market Basket Dataset](http://fimi.ua.ac.be/data/retail.pdf). This dataset contains transaction records supplied by a Belgian retail supermarket store. Each line in the file represents a separate transaction with the item ids separated by space. The dataset has 3000 transactions and 99 different item ids.\n",
    "\n",
    "You are also provided with a smaller dataset (`small_retail.txt`) with 9 transactions and 5 different item ids. You can test and debug your implementation on this smaller dataset."
   ]
  },
  {
   "cell_type": "markdown",
   "metadata": {},
   "source": [
    "### Apriori Algorithm from scratch\n",
    "\n",
    "The Apriori algorithm is a classical algorithm in data mining. It is used for mining frequent itemsets and relevant association rules. In this part, you'll be implementing this algorithm for generating the itemsets that occur enough times to meet the `min_sup` threshold.\n",
    "\n",
    "- Use the `frozenset` data structure in Python, which is similar to `set` in functionality, to represent the itemsets, because `frozenset` is an immutable (hashable) data structure. You can maintain a dictionary that maps from the itemset (a `frozenset`) to its support count."
   ]
  },
  {
   "cell_type": "code",
   "execution_count": 49,
   "metadata": {},
   "outputs": [],
   "source": [
    "# Reading the dataset from file\n",
    "def load_dataset(file_name):\n",
    "    with open(file_name, 'r') as f:\n",
    "        content = f.readlines()\n",
    "        data = [[int(x) for x in line.rstrip().split()] for line in content]\n",
    "    return data"
   ]
  },
  {
   "cell_type": "code",
   "execution_count": 50,
   "metadata": {},
   "outputs": [
    {
     "name": "stdout",
     "output_type": "stream",
     "text": [
      "[[1, 2, 5], [2, 4], [2, 3], [1, 2, 4], [1, 3], [2, 3], [1, 3], [1, 2, 3, 5], [1, 2, 3]]\n"
     ]
    }
   ],
   "source": [
    "# Read in the small_retail dataset\n",
    "small_dataset = load_dataset('small_retail.txt')\n",
    "print(small_dataset)"
   ]
  },
  {
   "cell_type": "markdown",
   "metadata": {},
   "source": [
    "Q3. Implement the function `create_1_itemsets` that takes as input the entire dataset and returns a list of all the candidate 1-itemsets. For example, for `small_retail.txt` it should return:\n",
    "~~~\n",
    "[frozenset({1}),\n",
    " frozenset({2}),\n",
    " frozenset({3}),\n",
    " frozenset({4}),\n",
    " frozenset({5})]\n",
    " ~~~\n",
    "Don't hardcode the item ids, your code should support item ids that are non-sequential. Return the list in sorted (numeric) order."
   ]
  },
  {
   "cell_type": "code",
   "execution_count": 51,
   "metadata": {},
   "outputs": [],
   "source": [
    "def create_1_itemsets(dataset):\n",
    "    c1 = set()\n",
    "    for item in dataset:\n",
    "        for i in item:\n",
    "            c1.add(frozenset([i]))\n",
    "    items = [list(fs)[0] for fs in c1]\n",
    "    items.sort()\n",
    "    return [frozenset([item]) for item in items]"
   ]
  },
  {
   "cell_type": "markdown",
   "metadata": {},
   "source": [
    "Q4. Implement function `filter_candidates` that takes as input the candidate itemsets, the dataset, and the minumum support count `min_sup`, and filters out candidates that don't meet the support threshold.\n",
    "\n",
    "Return a list of all the itemsets that meet `min_sup` (as a list of frozensets) and the support count information for all of them (as a `dict`)."
   ]
  },
  {
   "cell_type": "code",
   "execution_count": 52,
   "metadata": {},
   "outputs": [],
   "source": [
    "def filter_candidates(candidates, dataset, min_sup):\n",
    "    retlist = []\n",
    "    support_data = {}\n",
    "    \n",
    "    for candidate in candidates:\n",
    "        count = 0\n",
    "        for transaction in dataset:\n",
    "            if candidate.issubset(transaction):\n",
    "                count += 1\n",
    "        support_data[candidate] = count\n",
    "        if count >= min_sup:\n",
    "            retlist.append(candidate)\n",
    "    \n",
    "    return retlist, support_data"
   ]
  },
  {
   "cell_type": "markdown",
   "metadata": {},
   "source": [
    "Q5. Implement the function `generate_next_itemsets` that takes in frequent itemsets of size `k` and generates candidate itemsets of size `k + 1`.\n",
    "\n",
    "Use either the F(k-1) x F(k-1) or the F(k-1) x F(1) candidate generation method, then **filter the candidate list based on the apriori principle before returning it.**"
   ]
  },
  {
   "cell_type": "code",
   "execution_count": 53,
   "metadata": {},
   "outputs": [],
   "source": [
    "def generate_next_itemsets(freq_sets, freq_1_sets=None):\n",
    "    retlist = []\n",
    "\n",
    "    if freq_1_sets is None:\n",
    "        freq_1_sets = freq_sets\n",
    "\n",
    "    freq_sets_set = set(freq_sets)  # Make it a set for faster lookup!\n",
    "\n",
    "    for f_set in freq_sets:\n",
    "        for f1 in freq_1_sets:\n",
    "            item = list(f1)[0]\n",
    "            if item not in f_set:\n",
    "                new_set = f_set.union(f1)\n",
    "                if new_set not in retlist:\n",
    "                    all_subsets_frequent = True\n",
    "                    for subset in map(frozenset, itertools.combinations(new_set, len(f_set))):\n",
    "                        if subset not in freq_sets_set:\n",
    "                            all_subsets_frequent = False\n",
    "                            break\n",
    "                    if all_subsets_frequent:\n",
    "                        retlist.append(new_set)\n",
    "\n",
    "    return retlist"
   ]
  },
  {
   "cell_type": "markdown",
   "metadata": {},
   "source": [
    "Q6. Implement the function `apriori_freq_itemsets` that takes the entire dataset as input and returns all the frequent itemsets that meet `min_sup`. Return a list of all the itemsets that meet `min_sup` (as a list of frozensets) and the support count information for all of them (as a `dict`)."
   ]
  },
  {
   "cell_type": "code",
   "execution_count": 54,
   "metadata": {},
   "outputs": [],
   "source": [
    "def apriori_freq_itemsets(dataset, minsup):\n",
    "    retlist = []\n",
    "    support_data = {}\n",
    "    c1 = create_1_itemsets(dataset)\n",
    "    L1, sup1 = filter_candidates(c1, dataset, minsup)\n",
    "    retlist.extend(L1)\n",
    "    support_data.update(sup1)\n",
    "\n",
    "    Lk = L1\n",
    "    freq_1_sets = L1\n",
    "\n",
    "    while Lk:\n",
    "        Ck = generate_next_itemsets(Lk, freq_1_sets)\n",
    "        Lk, supK = filter_candidates(Ck, dataset, minsup)\n",
    "        retlist.extend(Lk)\n",
    "        support_data.update(supK)\n",
    "        \n",
    "    return retlist, support_data"
   ]
  },
  {
   "cell_type": "markdown",
   "metadata": {},
   "source": [
    "Q7. Use the provided `print_itemsets` function to display the frequent itemsets and their supports for the `large_retail.txt` dataset **with a min_support count of 300**.\n",
    "\n",
    "For testing/debugging purposes, the output for the `small_retail.txt` dataset with `min_sup` set to 2 is:\n",
    "~~~~\n",
    "Sup\tFreq Itemset\n",
    "6\t[1]\n",
    "7\t[2]\n",
    "6\t[3]\n",
    "2\t[4]\n",
    "2\t[5]\n",
    "4\t[1, 2]\n",
    "4\t[1, 3]\n",
    "2\t[1, 5]\n",
    "4\t[2, 3]\n",
    "2\t[2, 4]\n",
    "2\t[2, 5]\n",
    "2\t[1, 2, 3]\n",
    "2\t[1, 2, 5]\n",
    "~~~~"
   ]
  },
  {
   "cell_type": "code",
   "execution_count": 55,
   "metadata": {},
   "outputs": [],
   "source": [
    "# DO NOT CHANGE THE CODE IN THIS CELL\n",
    "\n",
    "\"\"\"\n",
    "If total_tid is not set, support count will be displayed.\n",
    "If total_tid is set to the length of the dataset, support as a percentage/ratio will be displayed.\n",
    "\"\"\"\n",
    "\n",
    "def print_itemsets(support_data, total_tid=1):\n",
    "    print (\"\\nSup\\tFreq Itemset\")\n",
    "    #group itemsets by length\n",
    "    length_dict = {}\n",
    "    \n",
    "    for itemset in support_data:\n",
    "        #sort the itemset\n",
    "        lst = (sorted(list(itemset)))\n",
    "        #add it to dictionary by length\n",
    "        if len(lst) not in length_dict:\n",
    "            length_dict[len(lst)] = []\n",
    "        length_dict[len(lst)].append(lst)\n",
    "\n",
    "    for length in length_dict:\n",
    "        lst = sorted(length_dict[length])\n",
    "        for item in lst:\n",
    "            if total_tid == 1: #support count\n",
    "                print(str(support_data[frozenset(item)]) + \"\\t\" + str(item))\n",
    "            else: #support ratio\n",
    "                print(str(round(support_data[frozenset(item)] / total_tid, 2)) + \"\\t\" + str(item))"
   ]
  },
  {
   "cell_type": "code",
   "execution_count": 56,
   "metadata": {},
   "outputs": [
    {
     "name": "stdout",
     "output_type": "stream",
     "text": [
      "\n",
      "Sup\tFreq Itemset\n",
      "6\t[1]\n",
      "7\t[2]\n",
      "6\t[3]\n",
      "2\t[4]\n",
      "2\t[5]\n",
      "4\t[1, 2]\n",
      "4\t[1, 3]\n",
      "1\t[1, 4]\n",
      "2\t[1, 5]\n",
      "4\t[2, 3]\n",
      "2\t[2, 4]\n",
      "2\t[2, 5]\n",
      "0\t[3, 4]\n",
      "1\t[3, 5]\n",
      "0\t[4, 5]\n",
      "2\t[1, 2, 3]\n",
      "2\t[1, 2, 5]\n"
     ]
    }
   ],
   "source": [
    "def load_dataset(filepath):\n",
    "    dataset = []\n",
    "    with open(filepath, \"r\") as file:\n",
    "        for line in file:\n",
    "            transaction = set(map(int, line.strip().split()))\n",
    "            dataset.append(transaction)\n",
    "    return dataset\n",
    "dataset = load_dataset(\"small_retail.txt\")\n",
    "freq_itemsets, support_data = apriori_freq_itemsets(dataset, minsup=2)\n",
    "print_itemsets(support_data, total_tid=1)"
   ]
  },
  {
   "cell_type": "markdown",
   "metadata": {},
   "source": [
    "## Part 3: Apriori Algorithm using MLXtend\n",
    "\n",
    "#### Installation\n",
    "`MLxtend` is a library that provides functionality for association rule mining. The documentation for this library is available [here](http://rasbt.github.io/mlxtend/)."
   ]
  },
  {
   "cell_type": "code",
   "execution_count": 57,
   "metadata": {
    "scrolled": true
   },
   "outputs": [
    {
     "name": "stdout",
     "output_type": "stream",
     "text": [
      "Requirement already satisfied: mlxtend in c:\\users\\moddi\\appdata\\local\\programs\\python\\python311\\lib\\site-packages (0.23.4)\n",
      "Requirement already satisfied: scipy>=1.2.1 in c:\\users\\moddi\\appdata\\local\\programs\\python\\python311\\lib\\site-packages (from mlxtend) (1.11.2)\n",
      "Requirement already satisfied: numpy>=1.16.2 in c:\\users\\moddi\\appdata\\local\\programs\\python\\python311\\lib\\site-packages (from mlxtend) (1.25.2)\n",
      "Requirement already satisfied: pandas>=0.24.2 in c:\\users\\moddi\\appdata\\local\\programs\\python\\python311\\lib\\site-packages (from mlxtend) (2.2.3)\n",
      "Requirement already satisfied: scikit-learn>=1.3.1 in c:\\users\\moddi\\appdata\\local\\programs\\python\\python311\\lib\\site-packages (from mlxtend) (1.6.1)\n",
      "Requirement already satisfied: matplotlib>=3.0.0 in c:\\users\\moddi\\appdata\\local\\programs\\python\\python311\\lib\\site-packages (from mlxtend) (3.7.2)\n",
      "Requirement already satisfied: joblib>=0.13.2 in c:\\users\\moddi\\appdata\\local\\programs\\python\\python311\\lib\\site-packages (from mlxtend) (1.4.2)\n",
      "Requirement already satisfied: contourpy>=1.0.1 in c:\\users\\moddi\\appdata\\local\\programs\\python\\python311\\lib\\site-packages (from matplotlib>=3.0.0->mlxtend) (1.1.0)\n",
      "Requirement already satisfied: cycler>=0.10 in c:\\users\\moddi\\appdata\\local\\programs\\python\\python311\\lib\\site-packages (from matplotlib>=3.0.0->mlxtend) (0.11.0)\n",
      "Requirement already satisfied: fonttools>=4.22.0 in c:\\users\\moddi\\appdata\\local\\programs\\python\\python311\\lib\\site-packages (from matplotlib>=3.0.0->mlxtend) (4.42.1)\n",
      "Requirement already satisfied: kiwisolver>=1.0.1 in c:\\users\\moddi\\appdata\\local\\programs\\python\\python311\\lib\\site-packages (from matplotlib>=3.0.0->mlxtend) (1.4.4)\n",
      "Requirement already satisfied: packaging>=20.0 in c:\\users\\moddi\\appdata\\local\\programs\\python\\python311\\lib\\site-packages (from matplotlib>=3.0.0->mlxtend) (23.1)\n",
      "Requirement already satisfied: pillow>=6.2.0 in c:\\users\\moddi\\appdata\\local\\programs\\python\\python311\\lib\\site-packages (from matplotlib>=3.0.0->mlxtend) (10.0.0)\n",
      "Requirement already satisfied: pyparsing<3.1,>=2.3.1 in c:\\users\\moddi\\appdata\\local\\programs\\python\\python311\\lib\\site-packages (from matplotlib>=3.0.0->mlxtend) (3.0.9)\n",
      "Requirement already satisfied: python-dateutil>=2.7 in c:\\users\\moddi\\appdata\\local\\programs\\python\\python311\\lib\\site-packages (from matplotlib>=3.0.0->mlxtend) (2.8.2)\n",
      "Requirement already satisfied: pytz>=2020.1 in c:\\users\\moddi\\appdata\\local\\programs\\python\\python311\\lib\\site-packages (from pandas>=0.24.2->mlxtend) (2025.1)\n",
      "Requirement already satisfied: tzdata>=2022.7 in c:\\users\\moddi\\appdata\\local\\programs\\python\\python311\\lib\\site-packages (from pandas>=0.24.2->mlxtend) (2025.1)\n",
      "Requirement already satisfied: threadpoolctl>=3.1.0 in c:\\users\\moddi\\appdata\\local\\programs\\python\\python311\\lib\\site-packages (from scikit-learn>=1.3.1->mlxtend) (3.5.0)\n",
      "Requirement already satisfied: six>=1.5 in c:\\users\\moddi\\appdata\\local\\programs\\python\\python311\\lib\\site-packages (from python-dateutil>=2.7->matplotlib>=3.0.0->mlxtend) (1.16.0)\n"
     ]
    },
    {
     "name": "stderr",
     "output_type": "stream",
     "text": [
      "\n",
      "[notice] A new release of pip is available: 25.0.1 -> 25.1\n",
      "[notice] To update, run: python.exe -m pip install --upgrade pip\n"
     ]
    }
   ],
   "source": [
    "# install the MLxtend library\n",
    "!pip install mlxtend"
   ]
  },
  {
   "cell_type": "code",
   "execution_count": 58,
   "metadata": {},
   "outputs": [
    {
     "name": "stderr",
     "output_type": "stream",
     "text": [
      "C:\\Users\\moddi\\AppData\\Roaming\\Python\\Python311\\site-packages\\IPython\\core\\pylabtools.py:77: DeprecationWarning: backends is deprecated since IPython 8.24, backends are managed in matplotlib and can be externally registered.\n",
      "  warnings.warn(\n"
     ]
    }
   ],
   "source": [
    "import matplotlib.pyplot as plt\n",
    "from mlxtend.preprocessing import TransactionEncoder\n",
    "from mlxtend.frequent_patterns import apriori\n",
    "\n",
    "%matplotlib inline"
   ]
  },
  {
   "cell_type": "markdown",
   "metadata": {},
   "source": [
    "### Dataset\n",
    "For the third part of this assignment, the data we'll use comes from a bakery called \"The Bread Basket\", located in the historic center of Edinburgh. The dataset contains more than 9000 transactions from the bakery. The file contains the following columns:\n",
    "\n",
    "- Date. Categorical variable that tells us the date of the transactions (YYYY-MM-DD format). The column includes dates from 2016-10-30 to 2017-04-09.\n",
    "\n",
    "- Time. Categorical variable that tells us the time of the transactions (HH:MM:SS format).\n",
    "\n",
    "- Transaction. Quantitative variable that allows us to differentiate the transactions. The rows that share the same value in this field belong to the same transaction.\n",
    "\n",
    "- Item. Categorical variable with the products purchased.\n",
    "\n",
    "In this part, you'll be running the Apriori algorithm from the MLxtend library to generate the itemsets that occur more than the `min_sup` threshold. Based on these frequent itemsets, you'll find association rules that have confidence above the `min_conf` threshold."
   ]
  },
  {
   "cell_type": "code",
   "execution_count": 59,
   "metadata": {},
   "outputs": [],
   "source": [
    "# Reading the dataset from file\n",
    "def load_dataset(file_name):\n",
    "    with open(file_name, 'r') as f:\n",
    "        content = f.readlines()[1:]\n",
    "    transactions = []\n",
    "    prev_tid = -1\n",
    "    for t in content:\n",
    "        t = t.strip().split(',')[-2:]\n",
    "        tid = t[0]\n",
    "        item = t[1]\n",
    "        if prev_tid != tid:\n",
    "            prev_tid = tid\n",
    "            transactions.append([item])\n",
    "        else:\n",
    "            transactions[-1].append(item)\n",
    "    return transactions"
   ]
  },
  {
   "cell_type": "code",
   "execution_count": 60,
   "metadata": {},
   "outputs": [
    {
     "name": "stdout",
     "output_type": "stream",
     "text": [
      "Num transactions: 9531\n"
     ]
    },
    {
     "data": {
      "text/plain": [
       "[['Bread'],\n",
       " ['Scandinavian', 'Scandinavian'],\n",
       " ['Hot chocolate', 'Jam', 'Cookies'],\n",
       " ['Muffin'],\n",
       " ['Coffee', 'Pastry', 'Bread'],\n",
       " ['Medialuna', 'Pastry', 'Muffin'],\n",
       " ['Medialuna', 'Pastry', 'Coffee', 'Tea'],\n",
       " ['Pastry', 'Bread'],\n",
       " ['Bread', 'Muffin'],\n",
       " ['Scandinavian', 'Medialuna']]"
      ]
     },
     "execution_count": 60,
     "metadata": {},
     "output_type": "execute_result"
    }
   ],
   "source": [
    "dataset = load_dataset('BreadBasket_DMS.csv')\n",
    "\n",
    "# ** NOTE: dataset is a 2D list (not a dataframe!) **\n",
    "\n",
    "print(\"Num transactions:\", len(dataset))\n",
    "#Print the first 10 transactions\n",
    "dataset[:10]"
   ]
  },
  {
   "cell_type": "markdown",
   "metadata": {},
   "source": [
    "Q8. Data Cleaning: Many transactions in the dataset include the item \"NONE.\" First, find and remove all the \"NONE\" items from the dataset. There are some transactions that only contain \"NONE,\" so removing \"NONE\" will leave some transactions as empty lists. Remove all the empty lists as well. \n",
    "\n",
    "Once you have removed the NONEs, find the top 10 best-selling items in the bakery. Create a bar chart to display the total number of transactions for each of the top 10 selling items. Sort the bar chart by frequency (the top most sold item first, down to the 10th most sold item)."
   ]
  },
  {
   "cell_type": "code",
   "execution_count": 75,
   "metadata": {},
   "outputs": [
    {
     "data": {
      "image/png": "[encoded data removed]",
      "text/plain": [
       "<Figure size 1000x600 with 1 Axes>"
      ]
     },
     "metadata": {},
     "output_type": "display_data"
    }
   ],
   "source": [
    "def cleaned_data(transactions):\n",
    "    cleaned = []\n",
    "    for i in transactions:\n",
    "        new_transactions = [item for item in i if item != \"NONE\"]\n",
    "        if new_transactions:\n",
    "            cleaned.append(new_transactions)\n",
    "    return cleaned\n",
    "\n",
    "def get_top_items(transactions, top_n=10):\n",
    "    item_counts = {}\n",
    "    for i in transactions:\n",
    "        for item in i:\n",
    "            if item not in item_counts:\n",
    "                item_counts[item] = 1\n",
    "            else:\n",
    "                item_counts[item] += 1\n",
    "            \n",
    "    sorted_items = sorted(item_counts.items(), key=lambda x: x[1], reverse=True)\n",
    "\n",
    "    return sorted_items[:top_n]\n",
    "\n",
    "cleaned_transactions = cleaned_data(dataset)\n",
    "top_items = get_top_items(cleaned_transactions)\n",
    "\n",
    "\n",
    "items = [item for item, count in top_items]\n",
    "counts = [count for item, count in top_items]\n",
    "\n",
    "plt.figure(figsize=(10,6))\n",
    "plt.bar(items, counts)\n",
    "plt.xlabel(\"Item\")\n",
    "plt.ylabel(\"# of Transactions\")\n",
    "plt.title(\"Top 10 Best-Selling Bakery Items\")\n",
    "plt.xticks(rotation=45)\n",
    "plt.show()"
   ]
  },
  {
   "cell_type": "markdown",
   "metadata": {},
   "source": [
    "Q9. \n",
    "\n",
    "a.) Using `mlxtend.preprocessing.TransactionEncoder`, transform `dataset` into an array format suitable for the `mlxtend` library. You will need to call `fit` then `transform`. \n",
    "\n",
    "`TransactionEncoder` learns unique items from the dataset and transforms each transaction into a one-hot encoded boolean numpy array. For example, the resulting encoded dataset will be represented by something like this, where each row is a transaction. If the first transaction contained ['Crepe', 'Jam'], this would correspond to the first row in the encoded table. \n",
    "\n",
    "<img src=\"table.png\">\n",
    "\n",
    "Print the `shape` of the resulting encoded numpy array.\n",
    "\n",
    "b.) `TransactionEncoder` also has a function `inverse_transform` that allows you to tranform one-hot encoded transactions back to the item labels. Try it out on the first 5 transactions and display the items in the first 5 transactions."
   ]
  },
  {
   "cell_type": "code",
   "execution_count": 76,
   "metadata": {},
   "outputs": [
    {
     "name": "stdout",
     "output_type": "stream",
     "text": [
      "(9465, 94)\n"
     ]
    }
   ],
   "source": [
    "te = TransactionEncoder()\n",
    "te.fit(cleaned_transactions)\n",
    "encoded_array = te.transform(cleaned_transactions)\n",
    "print(encoded_array.shape)\n"
   ]
  },
  {
   "cell_type": "markdown",
   "metadata": {},
   "source": [
    "Q10. Convert the encoded numpy array from the previous question (part a) into a pandas dataframe. Use the `TransactionEncoder`'s `.columns_` attribute as the column headers. Print the head of the resulting dataframe. "
   ]
  },
  {
   "cell_type": "code",
   "execution_count": 77,
   "metadata": {},
   "outputs": [
    {
     "name": "stdout",
     "output_type": "stream",
     "text": [
      "   Adjustment  Afternoon with the baker  Alfajores  Argentina Night  Art Tray  \\\n",
      "0       False                     False      False            False     False   \n",
      "1       False                     False      False            False     False   \n",
      "2       False                     False      False            False     False   \n",
      "3       False                     False      False            False     False   \n",
      "4       False                     False      False            False     False   \n",
      "\n",
      "   Bacon  Baguette  Bakewell  Bare Popcorn  Basket  ...  The BART  The Nomad  \\\n",
      "0  False     False     False         False   False  ...     False      False   \n",
      "1  False     False     False         False   False  ...     False      False   \n",
      "2  False     False     False         False   False  ...     False      False   \n",
      "3  False     False     False         False   False  ...     False      False   \n",
      "4  False     False     False         False   False  ...     False      False   \n",
      "\n",
      "   Tiffin  Toast  Truffles  Tshirt  Valentine's card  Vegan Feast  \\\n",
      "0   False  False     False   False             False        False   \n",
      "1   False  False     False   False             False        False   \n",
      "2   False  False     False   False             False        False   \n",
      "3   False  False     False   False             False        False   \n",
      "4   False  False     False   False             False        False   \n",
      "\n",
      "   Vegan mincepie  Victorian Sponge  \n",
      "0           False             False  \n",
      "1           False             False  \n",
      "2           False             False  \n",
      "3           False             False  \n",
      "4           False             False  \n",
      "\n",
      "[5 rows x 94 columns]\n"
     ]
    }
   ],
   "source": [
    "import pandas as pd\n",
    "df = pd.DataFrame(encoded_array, columns=te.columns_)\n",
    "print(df.head())\n"
   ]
  },
  {
   "cell_type": "markdown",
   "metadata": {},
   "source": [
    "Q11. Use the `mlxtend.frequent_patterns.apriori` to generate the frequent itemsets with minimum support of 1% (0.01). Display these itemsets along with their support values."
   ]
  },
  {
   "cell_type": "code",
   "execution_count": 78,
   "metadata": {},
   "outputs": [
    {
     "name": "stdout",
     "output_type": "stream",
     "text": [
      "     support                 itemsets\n",
      "0   0.036344              (Alfajores)\n",
      "1   0.016059               (Baguette)\n",
      "2   0.327205                  (Bread)\n",
      "3   0.040042                (Brownie)\n",
      "4   0.103856                   (Cake)\n",
      "..       ...                      ...\n",
      "56  0.023666          (Toast, Coffee)\n",
      "57  0.014369          (Tea, Sandwich)\n",
      "58  0.010037    (Coffee, Cake, Bread)\n",
      "59  0.011199  (Coffee, Pastry, Bread)\n",
      "60  0.010037      (Coffee, Tea, Cake)\n",
      "\n",
      "[61 rows x 2 columns]\n"
     ]
    }
   ],
   "source": [
    "frequent_itemsets = apriori(df, min_support=0.01, use_colnames=True)\n",
    "print(frequent_itemsets)"
   ]
  },
  {
   "cell_type": "markdown",
   "metadata": {},
   "source": [
    "Q12. Use `mlxtend.frequent_patterns.fpmax` to find and display all of the maximal frequent itemsets along with their support values. "
   ]
  },
  {
   "cell_type": "code",
   "execution_count": 79,
   "metadata": {},
   "outputs": [
    {
     "name": "stdout",
     "output_type": "stream",
     "text": [
      "     support                  itemsets\n",
      "0   0.010460                   (Salad)\n",
      "1   0.010565       (Hearty & Seasonal)\n",
      "2   0.012995            (Chicken Stew)\n",
      "3   0.013207          (Jammie Dodgers)\n",
      "4   0.014157           (Mineral water)\n",
      "5   0.015003                     (Jam)\n",
      "6   0.015003                   (Fudge)\n",
      "7   0.015425                  (Tiffin)\n",
      "8   0.016059                (Baguette)\n",
      "9   0.010882  (Spanish Brunch, Coffee)\n",
      "10  0.019440                    (Coke)\n",
      "11  0.020285                (Truffles)\n",
      "12  0.029054            (Scandinavian)\n",
      "13  0.023666           (Toast, Coffee)\n",
      "14  0.015848            (Coffee, Soup)\n",
      "15  0.018067           (Coffee, Scone)\n",
      "16  0.010354        (Alfajores, Bread)\n",
      "17  0.019651       (Coffee, Alfajores)\n",
      "18  0.018806          (Coffee, Muffin)\n",
      "19  0.020602           (Coffee, Juice)\n",
      "20  0.039197              (Farm House)\n",
      "21  0.010777          (Brownie, Bread)\n",
      "22  0.019651         (Brownie, Coffee)\n",
      "23  0.014474          (Cookies, Bread)\n",
      "24  0.028209         (Coffee, Cookies)\n",
      "25  0.011410     (Hot chocolate, Cake)\n",
      "26  0.013418    (Hot chocolate, Bread)\n",
      "27  0.029583   (Hot chocolate, Coffee)\n",
      "28  0.016904        (Medialuna, Bread)\n",
      "29  0.035182       (Coffee, Medialuna)\n",
      "30  0.014369           (Tea, Sandwich)\n",
      "31  0.017010         (Bread, Sandwich)\n",
      "32  0.038246        (Coffee, Sandwich)\n",
      "33  0.011199   (Coffee, Pastry, Bread)\n",
      "34  0.010037     (Coffee, Cake, Bread)\n",
      "35  0.010037       (Coffee, Tea, Cake)\n",
      "36  0.028104              (Tea, Bread)\n"
     ]
    }
   ],
   "source": [
    "import mlxtend\n",
    "maximal_itemsets = mlxtend.frequent_patterns.fpmax(df, min_support=0.01, use_colnames=True)\n",
    "print(maximal_itemsets)"
   ]
  },
  {
   "cell_type": "markdown",
   "metadata": {},
   "source": [
    "Q13. Use `mlxtend.frequent_patterns.association_rules` to calculate rules with a confidence level of 0.25 for the frequent itemsets you generated in Q11."
   ]
  },
  {
   "cell_type": "code",
   "execution_count": 83,
   "metadata": {},
   "outputs": [
    {
     "name": "stdout",
     "output_type": "stream",
     "text": [
      "         antecedents consequents  antecedent support  consequent support  \\\n",
      "0        (Alfajores)     (Bread)            0.036344            0.327205   \n",
      "1        (Alfajores)    (Coffee)            0.036344            0.478394   \n",
      "2          (Brownie)     (Bread)            0.040042            0.327205   \n",
      "3            (Bread)    (Coffee)            0.327205            0.478394   \n",
      "4          (Cookies)     (Bread)            0.054411            0.327205   \n",
      "5        (Medialuna)     (Bread)            0.061807            0.327205   \n",
      "6           (Pastry)     (Bread)            0.086107            0.327205   \n",
      "7          (Brownie)    (Coffee)            0.040042            0.478394   \n",
      "8             (Cake)    (Coffee)            0.103856            0.478394   \n",
      "9          (Cookies)    (Coffee)            0.054411            0.478394   \n",
      "10   (Hot chocolate)    (Coffee)            0.058320            0.478394   \n",
      "11           (Juice)    (Coffee)            0.038563            0.478394   \n",
      "12       (Medialuna)    (Coffee)            0.061807            0.478394   \n",
      "13          (Muffin)    (Coffee)            0.038457            0.478394   \n",
      "14          (Pastry)    (Coffee)            0.086107            0.478394   \n",
      "15        (Sandwich)    (Coffee)            0.071844            0.478394   \n",
      "16           (Scone)    (Coffee)            0.034548            0.478394   \n",
      "17            (Soup)    (Coffee)            0.034443            0.478394   \n",
      "18  (Spanish Brunch)    (Coffee)            0.018172            0.478394   \n",
      "19             (Tea)    (Coffee)            0.142631            0.478394   \n",
      "20           (Toast)    (Coffee)            0.033597            0.478394   \n",
      "21     (Bread, Cake)    (Coffee)            0.023349            0.478394   \n",
      "22   (Pastry, Bread)    (Coffee)            0.029160            0.478394   \n",
      "23       (Tea, Cake)    (Coffee)            0.023772            0.478394   \n",
      "\n",
      "     support  confidence      lift  representativity  leverage  conviction  \\\n",
      "0   0.010354    0.284884  0.870657               1.0 -0.001538    0.940818   \n",
      "1   0.019651    0.540698  1.130235               1.0  0.002264    1.135648   \n",
      "2   0.010777    0.269129  0.822508               1.0 -0.002326    0.920538   \n",
      "3   0.090016    0.275105  0.575059               1.0 -0.066517    0.719561   \n",
      "4   0.014474    0.266019  0.813004               1.0 -0.003329    0.916638   \n",
      "5   0.016904    0.273504  0.835879               1.0 -0.003319    0.926082   \n",
      "6   0.029160    0.338650  1.034977               1.0  0.000985    1.017305   \n",
      "7   0.019651    0.490765  1.025860               1.0  0.000495    1.024293   \n",
      "8   0.054728    0.526958  1.101515               1.0  0.005044    1.102664   \n",
      "9   0.028209    0.518447  1.083723               1.0  0.002179    1.083174   \n",
      "10  0.029583    0.507246  1.060311               1.0  0.001683    1.058553   \n",
      "11  0.020602    0.534247  1.116750               1.0  0.002154    1.119919   \n",
      "12  0.035182    0.569231  1.189878               1.0  0.005614    1.210871   \n",
      "13  0.018806    0.489011  1.022193               1.0  0.000408    1.020777   \n",
      "14  0.047544    0.552147  1.154168               1.0  0.006351    1.164682   \n",
      "15  0.038246    0.532353  1.112792               1.0  0.003877    1.115384   \n",
      "16  0.018067    0.522936  1.093107               1.0  0.001539    1.093366   \n",
      "17  0.015848    0.460123  0.961807               1.0 -0.000629    0.966156   \n",
      "18  0.010882    0.598837  1.251766               1.0  0.002189    1.300235   \n",
      "19  0.049868    0.349630  0.730840               1.0 -0.018366    0.802014   \n",
      "20  0.023666    0.704403  1.472431               1.0  0.007593    1.764582   \n",
      "21  0.010037    0.429864  0.898557               1.0 -0.001133    0.914880   \n",
      "22  0.011199    0.384058  0.802807               1.0 -0.002751    0.846843   \n",
      "23  0.010037    0.422222  0.882582               1.0 -0.001335    0.902779   \n",
      "\n",
      "    zhangs_metric   jaccard  certainty  kulczynski  \n",
      "0       -0.133570  0.029315  -0.062904    0.158264  \n",
      "1        0.119574  0.039693   0.119446    0.290888  \n",
      "2       -0.183536  0.030231  -0.086321    0.151032  \n",
      "3       -0.523431  0.125794  -0.389737    0.231634  \n",
      "4       -0.195651  0.039424  -0.090943    0.155128  \n",
      "5       -0.173062  0.045429  -0.079818    0.162584  \n",
      "6        0.036980  0.075908   0.017011    0.213884  \n",
      "7        0.026259  0.039398   0.023717    0.265921  \n",
      "8        0.102840  0.103745   0.093105    0.320679  \n",
      "9        0.081700  0.055905   0.076787    0.288707  \n",
      "10       0.060403  0.058333   0.055314    0.284542  \n",
      "11       0.108738  0.041507   0.107078    0.288656  \n",
      "12       0.170091  0.069665   0.174148    0.321387  \n",
      "13       0.022579  0.037760   0.020354    0.264161  \n",
      "14       0.146161  0.091968   0.141396    0.325764  \n",
      "15       0.109205  0.074701   0.103448    0.306150  \n",
      "16       0.088224  0.036507   0.085393    0.280350  \n",
      "17      -0.039502  0.031888  -0.035029    0.246625  \n",
      "18       0.204851  0.022406   0.230908    0.310792  \n",
      "19      -0.300482  0.087310  -0.246862    0.226935  \n",
      "20       0.332006  0.048464   0.433293    0.376936  \n",
      "21      -0.103617  0.020413  -0.093039    0.225422  \n",
      "22      -0.201920  0.022563  -0.180857    0.203734  \n",
      "23      -0.119934  0.020395  -0.107690    0.221601  \n"
     ]
    }
   ],
   "source": [
    "rules = mlxtend.frequent_patterns.association_rules(frequent_itemsets, metric=\"confidence\", min_threshold=0.25)\n",
    "print(rules)"
   ]
  },
  {
   "cell_type": "markdown",
   "metadata": {},
   "source": [
    "Q14. An important step in generating a set of association rules is to determine the optimal thresholds for support and confidence. If we set these values too low we will get a lot of rules and most of them will not be useful. \n",
    "\n",
    "Generate the frequent itemsets with minimum support of 0.5% and plot the number of rules generated with respect to the confidence threshold by varying min_conf between 0 and 1 with increments of 0.1. Notice what happens when you increase the confidence level."
   ]
  },
  {
   "cell_type": "code",
   "execution_count": 84,
   "metadata": {},
   "outputs": [
    {
     "data": {
      "image/png": "[encoded data removed]",
      "text/plain": [
       "<Figure size 800x600 with 1 Axes>"
      ]
     },
     "metadata": {},
     "output_type": "display_data"
    }
   ],
   "source": [
    "frequent_itemsets_005 = apriori(df, min_support=0.005, use_colnames=True)\n",
    "confidences = [round(i * 0.1, 1) for i in range(11)]  # [0.0, 0.1, 0.2, ..., 1.0]\n",
    "num_rules = []\n",
    "for conf in confidences:\n",
    "    rules = mlxtend.frequent_patterns.association_rules(frequent_itemsets_005, metric=\"confidence\", min_threshold=conf)\n",
    "    num_rules.append(len(rules))\n",
    "plt.figure(figsize=(8,6))\n",
    "plt.plot(confidences, num_rules, marker='o')\n",
    "plt.xlabel(\"Confidence\")\n",
    "plt.ylabel(\"# of Rules\")\n",
    "plt.title(\"# of Rules v. Confidence\")\n",
    "plt.grid(True)\n",
    "plt.show()"
   ]
  },
  {
   "cell_type": "markdown",
   "metadata": {},
   "source": [
    "Q15. What value would you choose for the minimum confidence threshold based on the previous plot? Explain why as a comment. \n",
    "\n",
    "Display the rules generated for the your chosen value. Take a look at the generated rules. Are they interesting? As a comment, explain why or why not."
   ]
  },
  {
   "cell_type": "code",
   "execution_count": 90,
   "metadata": {},
   "outputs": [
    {
     "name": "stdout",
     "output_type": "stream",
     "text": [
      "   antecedents consequents  antecedent support  consequent support   support  \\\n",
      "0  (Alfajores)     (Bread)            0.036344            0.327205  0.010354   \n",
      "1  (Alfajores)    (Coffee)            0.036344            0.478394  0.019651   \n",
      "2    (Brownie)     (Bread)            0.040042            0.327205  0.010777   \n",
      "3       (Cake)     (Bread)            0.103856            0.327205  0.023349   \n",
      "4      (Bread)    (Coffee)            0.327205            0.478394  0.090016   \n",
      "\n",
      "   confidence      lift  representativity  leverage  conviction  \\\n",
      "0    0.284884  0.870657               1.0 -0.001538    0.940818   \n",
      "1    0.540698  1.130235               1.0  0.002264    1.135648   \n",
      "2    0.269129  0.822508               1.0 -0.002326    0.920538   \n",
      "3    0.224822  0.687097               1.0 -0.010633    0.867923   \n",
      "4    0.275105  0.575059               1.0 -0.066517    0.719561   \n",
      "\n",
      "   zhangs_metric   jaccard  certainty  kulczynski  \n",
      "0      -0.133570  0.029315  -0.062904    0.158264  \n",
      "1       0.119574  0.039693   0.119446    0.290888  \n",
      "2      -0.183536  0.030231  -0.086321    0.151032  \n",
      "3      -0.336947  0.057269  -0.152177    0.148091  \n",
      "4      -0.523431  0.125794  -0.389737    0.231634  \n"
     ]
    }
   ],
   "source": [
    "# 20% seems like a really good cut since there is a \"knee\" there. This seems like a good cutoff point for rules.T\n",
    "new_rules = mlxtend.frequent_patterns.association_rules(frequent_itemsets, metric=\"confidence\", min_threshold=0.2)\n",
    "print(new_rules.head())\n",
    "# These rules are very interesting, and from life experience, seem very reasonable. It makes a lot of sense that coffee\n",
    "# is a high amount of purchases with high support, and it also makes sense that coffee is often purchased consequently with toast (highest confidence 70%),\n",
    "# as this is most likely a breakfast purchase or a \"brunch purchase\", as spanish brunch also has a high confidence rule with coffee as a consequent."
   ]
  }
 ],
 "metadata": {
  "kernelspec": {
   "display_name": "Python 3",
   "language": "python",
   "name": "python3"
  },
  "language_info": {
   "codemirror_mode": {
    "name": "ipython",
    "version": 3
   },
   "file_extension": ".py",
   "mimetype": "text/x-python",
   "name": "python",
   "nbconvert_exporter": "python",
   "pygments_lexer": "ipython3",
   "version": "3.11.5"
  }
 },
 "nbformat": 4,
 "nbformat_minor": 2
}
