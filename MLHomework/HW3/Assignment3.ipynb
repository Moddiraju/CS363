{
 "cells": [
  {
   "cell_type": "markdown",
   "id": "0fd33643",
   "metadata": {},
   "source": [
    "### This assignment may be worked individually or in pairs. \n",
    "### Enter your name/names here:"
   ]
  },
  {
   "cell_type": "code",
   "execution_count": 2,
   "id": "2649232b",
   "metadata": {},
   "outputs": [],
   "source": [
    "# Manojwal Oddiraju"
   ]
  },
  {
   "cell_type": "code",
   "execution_count": 3,
   "id": "ab1fe226",
   "metadata": {},
   "outputs": [],
   "source": [
    "# headers\n",
    "import pandas as pd\n",
    "import matplotlib.pyplot as plt\n",
    "import numpy as np"
   ]
  },
  {
   "cell_type": "markdown",
   "id": "7a7c7806",
   "metadata": {},
   "source": [
    "# Assignment 3: Linear Regression and KNN Classifier"
   ]
  },
  {
   "cell_type": "markdown",
   "id": "5bccf477",
   "metadata": {},
   "source": [
    "## Part 1: Linear regression with scikit-learn\n",
    "\n",
    "In this part of the assignment, you will fit a linear regression model to an insurance dataset using the scikit-learn package. \n",
    "\n",
    "The insurance company would like to be able to estimate the annual medical expenditures they will need to pay for any customer, based on the customer's age, sex, BMI, # of children, whether they are a smoker, and their region of residence. \n",
    "\n",
    "Estimates from this model can be used to then determine how much to charge each customer for insurance (the more we think you'll cost us, the more we will charge you)."
   ]
  },
  {
   "cell_type": "markdown",
   "id": "8bb47879",
   "metadata": {},
   "source": [
    "**Data Prep**\n",
    "\n",
    "Q1. Read the dataset from 'medical-charges.txt' into a Pandas Dataframe. Display the head of the dataset. There should be 1338 rows and 7 columns. The target column (y) is the `charges` column."
   ]
  },
  {
   "cell_type": "code",
   "execution_count": 4,
   "id": "589c05de",
   "metadata": {
    "scrolled": true
   },
   "outputs": [
    {
     "data": {
      "text/html": [
       "<div>\n",
       "<style scoped>\n",
       "    .dataframe tbody tr th:only-of-type {\n",
       "        vertical-align: middle;\n",
       "    }\n",
       "\n",
       "    .dataframe tbody tr th {\n",
       "        vertical-align: top;\n",
       "    }\n",
       "\n",
       "    .dataframe thead th {\n",
       "        text-align: right;\n",
       "    }\n",
       "</style>\n",
       "<table border=\"1\" class=\"dataframe\">\n",
       "  <thead>\n",
       "    <tr style=\"text-align: right;\">\n",
       "      <th></th>\n",
       "      <th>age</th>\n",
       "      <th>sex</th>\n",
       "      <th>bmi</th>\n",
       "      <th>children</th>\n",
       "      <th>smoker</th>\n",
       "      <th>region</th>\n",
       "      <th>charges</th>\n",
       "    </tr>\n",
       "  </thead>\n",
       "  <tbody>\n",
       "    <tr>\n",
       "      <th>0</th>\n",
       "      <td>19</td>\n",
       "      <td>female</td>\n",
       "      <td>27.900</td>\n",
       "      <td>0</td>\n",
       "      <td>yes</td>\n",
       "      <td>southwest</td>\n",
       "      <td>16884.92400</td>\n",
       "    </tr>\n",
       "    <tr>\n",
       "      <th>1</th>\n",
       "      <td>18</td>\n",
       "      <td>male</td>\n",
       "      <td>33.770</td>\n",
       "      <td>1</td>\n",
       "      <td>no</td>\n",
       "      <td>southeast</td>\n",
       "      <td>1725.55230</td>\n",
       "    </tr>\n",
       "    <tr>\n",
       "      <th>2</th>\n",
       "      <td>28</td>\n",
       "      <td>male</td>\n",
       "      <td>33.000</td>\n",
       "      <td>3</td>\n",
       "      <td>no</td>\n",
       "      <td>southeast</td>\n",
       "      <td>4449.46200</td>\n",
       "    </tr>\n",
       "    <tr>\n",
       "      <th>3</th>\n",
       "      <td>33</td>\n",
       "      <td>male</td>\n",
       "      <td>22.705</td>\n",
       "      <td>0</td>\n",
       "      <td>no</td>\n",
       "      <td>northwest</td>\n",
       "      <td>21984.47061</td>\n",
       "    </tr>\n",
       "    <tr>\n",
       "      <th>4</th>\n",
       "      <td>32</td>\n",
       "      <td>male</td>\n",
       "      <td>28.880</td>\n",
       "      <td>0</td>\n",
       "      <td>no</td>\n",
       "      <td>northwest</td>\n",
       "      <td>3866.85520</td>\n",
       "    </tr>\n",
       "  </tbody>\n",
       "</table>\n",
       "</div>"
      ],
      "text/plain": [
       "   age     sex     bmi  children smoker     region      charges\n",
       "0   19  female  27.900         0    yes  southwest  16884.92400\n",
       "1   18    male  33.770         1     no  southeast   1725.55230\n",
       "2   28    male  33.000         3     no  southeast   4449.46200\n",
       "3   33    male  22.705         0     no  northwest  21984.47061\n",
       "4   32    male  28.880         0     no  northwest   3866.85520"
      ]
     },
     "execution_count": 4,
     "metadata": {},
     "output_type": "execute_result"
    }
   ],
   "source": [
    "med_charges = pd.read_csv(\"medical-charges.txt\")\n",
    "med_charges.head()"
   ]
  },
  {
   "cell_type": "markdown",
   "id": "3043bb91",
   "metadata": {},
   "source": [
    "Q2. Notice that there are several categorical columns. You'll need to transform these to be able to do regression. Since `sex` and `smoker` are binary in this dataset, let's do them differently than `region` which has 4 options.\n",
    "\n",
    "* Use the Pandas [get_dummies()](https://pandas.pydata.org/docs/reference/api/pandas.get_dummies.html) function to one-hot-encode `sex` and `smoker`. \n",
    "* Since these features are binary, we do not need to create two columns for each of them (i.e. we do not need both smoker_yes and smoker_no - just having a smoker_yes column will be sufficient), so use the `drop_first` parameter of get_dummies to create only a `smoker_yes` and a `sex_male` column. \n",
    "* Display the head of the dataframe."
   ]
  },
  {
   "cell_type": "code",
   "execution_count": 5,
   "id": "0484464d",
   "metadata": {},
   "outputs": [
    {
     "data": {
      "text/html": [
       "<div>\n",
       "<style scoped>\n",
       "    .dataframe tbody tr th:only-of-type {\n",
       "        vertical-align: middle;\n",
       "    }\n",
       "\n",
       "    .dataframe tbody tr th {\n",
       "        vertical-align: top;\n",
       "    }\n",
       "\n",
       "    .dataframe thead th {\n",
       "        text-align: right;\n",
       "    }\n",
       "</style>\n",
       "<table border=\"1\" class=\"dataframe\">\n",
       "  <thead>\n",
       "    <tr style=\"text-align: right;\">\n",
       "      <th></th>\n",
       "      <th>age</th>\n",
       "      <th>bmi</th>\n",
       "      <th>children</th>\n",
       "      <th>region</th>\n",
       "      <th>charges</th>\n",
       "      <th>sex_male</th>\n",
       "      <th>smoker_yes</th>\n",
       "    </tr>\n",
       "  </thead>\n",
       "  <tbody>\n",
       "    <tr>\n",
       "      <th>0</th>\n",
       "      <td>19</td>\n",
       "      <td>27.900</td>\n",
       "      <td>0</td>\n",
       "      <td>southwest</td>\n",
       "      <td>16884.92400</td>\n",
       "      <td>False</td>\n",
       "      <td>True</td>\n",
       "    </tr>\n",
       "    <tr>\n",
       "      <th>1</th>\n",
       "      <td>18</td>\n",
       "      <td>33.770</td>\n",
       "      <td>1</td>\n",
       "      <td>southeast</td>\n",
       "      <td>1725.55230</td>\n",
       "      <td>True</td>\n",
       "      <td>False</td>\n",
       "    </tr>\n",
       "    <tr>\n",
       "      <th>2</th>\n",
       "      <td>28</td>\n",
       "      <td>33.000</td>\n",
       "      <td>3</td>\n",
       "      <td>southeast</td>\n",
       "      <td>4449.46200</td>\n",
       "      <td>True</td>\n",
       "      <td>False</td>\n",
       "    </tr>\n",
       "    <tr>\n",
       "      <th>3</th>\n",
       "      <td>33</td>\n",
       "      <td>22.705</td>\n",
       "      <td>0</td>\n",
       "      <td>northwest</td>\n",
       "      <td>21984.47061</td>\n",
       "      <td>True</td>\n",
       "      <td>False</td>\n",
       "    </tr>\n",
       "    <tr>\n",
       "      <th>4</th>\n",
       "      <td>32</td>\n",
       "      <td>28.880</td>\n",
       "      <td>0</td>\n",
       "      <td>northwest</td>\n",
       "      <td>3866.85520</td>\n",
       "      <td>True</td>\n",
       "      <td>False</td>\n",
       "    </tr>\n",
       "  </tbody>\n",
       "</table>\n",
       "</div>"
      ],
      "text/plain": [
       "   age     bmi  children     region      charges  sex_male  smoker_yes\n",
       "0   19  27.900         0  southwest  16884.92400     False        True\n",
       "1   18  33.770         1  southeast   1725.55230      True       False\n",
       "2   28  33.000         3  southeast   4449.46200      True       False\n",
       "3   33  22.705         0  northwest  21984.47061      True       False\n",
       "4   32  28.880         0  northwest   3866.85520      True       False"
      ]
     },
     "execution_count": 5,
     "metadata": {},
     "output_type": "execute_result"
    }
   ],
   "source": [
    "med_charges = pd.get_dummies(med_charges, columns=[\"sex\", \"smoker\"], drop_first=True)\n",
    "med_charges.head()"
   ]
  },
  {
   "cell_type": "markdown",
   "id": "11737757",
   "metadata": {},
   "source": [
    "Q3. Now one-hot encode the `region` feature by again using `get_dummies()`, but this time, even though we could drop one column, let's go ahead and explicitly keep all 4 values as columns (i.e. drop_first should be set to False). Display the head of the resulting dataframe."
   ]
  },
  {
   "cell_type": "code",
   "execution_count": 6,
   "id": "e0b43b2c",
   "metadata": {
    "scrolled": true
   },
   "outputs": [
    {
     "data": {
      "text/html": [
       "<div>\n",
       "<style scoped>\n",
       "    .dataframe tbody tr th:only-of-type {\n",
       "        vertical-align: middle;\n",
       "    }\n",
       "\n",
       "    .dataframe tbody tr th {\n",
       "        vertical-align: top;\n",
       "    }\n",
       "\n",
       "    .dataframe thead th {\n",
       "        text-align: right;\n",
       "    }\n",
       "</style>\n",
       "<table border=\"1\" class=\"dataframe\">\n",
       "  <thead>\n",
       "    <tr style=\"text-align: right;\">\n",
       "      <th></th>\n",
       "      <th>age</th>\n",
       "      <th>bmi</th>\n",
       "      <th>children</th>\n",
       "      <th>charges</th>\n",
       "      <th>sex_male</th>\n",
       "      <th>smoker_yes</th>\n",
       "      <th>region_northeast</th>\n",
       "      <th>region_northwest</th>\n",
       "      <th>region_southeast</th>\n",
       "      <th>region_southwest</th>\n",
       "    </tr>\n",
       "  </thead>\n",
       "  <tbody>\n",
       "    <tr>\n",
       "      <th>0</th>\n",
       "      <td>19</td>\n",
       "      <td>27.900</td>\n",
       "      <td>0</td>\n",
       "      <td>16884.92400</td>\n",
       "      <td>False</td>\n",
       "      <td>True</td>\n",
       "      <td>False</td>\n",
       "      <td>False</td>\n",
       "      <td>False</td>\n",
       "      <td>True</td>\n",
       "    </tr>\n",
       "    <tr>\n",
       "      <th>1</th>\n",
       "      <td>18</td>\n",
       "      <td>33.770</td>\n",
       "      <td>1</td>\n",
       "      <td>1725.55230</td>\n",
       "      <td>True</td>\n",
       "      <td>False</td>\n",
       "      <td>False</td>\n",
       "      <td>False</td>\n",
       "      <td>True</td>\n",
       "      <td>False</td>\n",
       "    </tr>\n",
       "    <tr>\n",
       "      <th>2</th>\n",
       "      <td>28</td>\n",
       "      <td>33.000</td>\n",
       "      <td>3</td>\n",
       "      <td>4449.46200</td>\n",
       "      <td>True</td>\n",
       "      <td>False</td>\n",
       "      <td>False</td>\n",
       "      <td>False</td>\n",
       "      <td>True</td>\n",
       "      <td>False</td>\n",
       "    </tr>\n",
       "    <tr>\n",
       "      <th>3</th>\n",
       "      <td>33</td>\n",
       "      <td>22.705</td>\n",
       "      <td>0</td>\n",
       "      <td>21984.47061</td>\n",
       "      <td>True</td>\n",
       "      <td>False</td>\n",
       "      <td>False</td>\n",
       "      <td>True</td>\n",
       "      <td>False</td>\n",
       "      <td>False</td>\n",
       "    </tr>\n",
       "    <tr>\n",
       "      <th>4</th>\n",
       "      <td>32</td>\n",
       "      <td>28.880</td>\n",
       "      <td>0</td>\n",
       "      <td>3866.85520</td>\n",
       "      <td>True</td>\n",
       "      <td>False</td>\n",
       "      <td>False</td>\n",
       "      <td>True</td>\n",
       "      <td>False</td>\n",
       "      <td>False</td>\n",
       "    </tr>\n",
       "  </tbody>\n",
       "</table>\n",
       "</div>"
      ],
      "text/plain": [
       "   age     bmi  children      charges  sex_male  smoker_yes  region_northeast  \\\n",
       "0   19  27.900         0  16884.92400     False        True             False   \n",
       "1   18  33.770         1   1725.55230      True       False             False   \n",
       "2   28  33.000         3   4449.46200      True       False             False   \n",
       "3   33  22.705         0  21984.47061      True       False             False   \n",
       "4   32  28.880         0   3866.85520      True       False             False   \n",
       "\n",
       "   region_northwest  region_southeast  region_southwest  \n",
       "0             False             False              True  \n",
       "1             False              True             False  \n",
       "2             False              True             False  \n",
       "3              True             False             False  \n",
       "4              True             False             False  "
      ]
     },
     "execution_count": 6,
     "metadata": {},
     "output_type": "execute_result"
    }
   ],
   "source": [
    "med_charges = pd.get_dummies(med_charges, columns=[\"region\"], drop_first=False)\n",
    "med_charges.head()"
   ]
  },
  {
   "cell_type": "markdown",
   "id": "38a13dc1",
   "metadata": {},
   "source": [
    "Q4. An interesting thing to check with regression problems is whether any of the individual features correlate very strongly with the target. Use the `corr()` method on the dataframe to take a look at this.\n",
    "\n",
    "Answer as a comment: Do you see any features with a strong correlation to the target?"
   ]
  },
  {
   "cell_type": "code",
   "execution_count": 7,
   "id": "6ad660fd",
   "metadata": {
    "scrolled": true
   },
   "outputs": [
    {
     "name": "stdout",
     "output_type": "stream",
     "text": [
      "age                 0.299008\n",
      "bmi                 0.198341\n",
      "children            0.067998\n",
      "charges             1.000000\n",
      "sex_male            0.057292\n",
      "smoker_yes          0.787251\n",
      "region_northeast    0.006349\n",
      "region_northwest   -0.039905\n",
      "region_southeast    0.073982\n",
      "region_southwest   -0.043210\n",
      "Name: charges, dtype: float64\n"
     ]
    }
   ],
   "source": [
    "target_corr = med_charges.corr()[\"charges\"]\n",
    "print(target_corr)\n",
    "\n",
    "# no surprise, smoker is a very strong correlation with .78, and age is the next strongest at .299. This of course is entirely expected since smokers tend to be in worse health."
   ]
  },
  {
   "cell_type": "markdown",
   "id": "4b86aa6a",
   "metadata": {},
   "source": [
    "Q5. Create a plot to show the difference in charges between the smokers and the non-smokers. "
   ]
  },
  {
   "cell_type": "code",
   "execution_count": 8,
   "id": "2f3a1ce1",
   "metadata": {},
   "outputs": [
    {
     "data": {
      "image/png": "[encoded data removed]",
      "text/plain": [
       "<Figure size 640x480 with 1 Axes>"
      ]
     },
     "metadata": {},
     "output_type": "display_data"
    }
   ],
   "source": [
    "smokers = med_charges[med_charges[\"smoker_yes\"] == True]\n",
    "non_smokers = med_charges[med_charges[\"smoker_yes\"] == False]\n",
    "plot_data = [smokers[\"charges\"], non_smokers[\"charges\"]]\n",
    "plt.boxplot(plot_data, labels=[\"Smokers\", \"Non-smokers\"])\n",
    "plt.ylabel(\"Charges\")\n",
    "plt.title(\"Smokers vs. Non-Smokers\")\n",
    "plt.show()\n"
   ]
  },
  {
   "cell_type": "markdown",
   "id": "5ece359c",
   "metadata": {},
   "source": [
    "Q6. Let's explore the relationship between `age` and `charges`. Create a scatter plot of all data points to show age vs charges. \n",
    "\n",
    "Answer as a comment: What do you notice about the nature of this relationship?"
   ]
  },
  {
   "cell_type": "code",
   "execution_count": 9,
   "id": "78a4ddce",
   "metadata": {},
   "outputs": [
    {
     "data": {
      "image/png": "[encoded data removed]",
      "text/plain": [
       "<Figure size 640x480 with 1 Axes>"
      ]
     },
     "metadata": {},
     "output_type": "display_data"
    }
   ],
   "source": [
    "age = med_charges[\"age\"]\n",
    "plt.scatter(age, med_charges[\"charges\"])\n",
    "plt.xlabel(\"Age\")\n",
    "plt.ylabel(\"Charges\")\n",
    "plt.title(\"Age vs Charges\")\n",
    "plt.show()\n",
    "\n",
    "# generally as you get older, you charge the insurance company more, but there are outliers at every single age.\n",
    "# This is most likely individuals with conditions/accidents.\n"
   ]
  },
  {
   "cell_type": "markdown",
   "id": "ce9b1624",
   "metadata": {},
   "source": [
    "#### Simple Linear Regression\n",
    "**Fit a simple linear regression model to predict `charges` from `age`.**\n",
    "\n",
    "Q7. \n",
    "* Grab the `age` column from the dataframe and call it something like `x`.\n",
    "* Grab the `charges` column from the dataframe and call it something like `y`.\n",
    "* When doing simple linear regression (one feature), you need to convert the features from a Series to an array of arrays. You can do this by doing `x = x.values.reshape(-1,1)`, where the (-1,1) means (all rows, one column). \n",
    "* Do the same to the labels (`y = y.values.reshape(-1,1)`). \n",
    "* Verify that you have an array of arrays for both x and y. (It should be using `numpy.ndarray` by default.)"
   ]
  },
  {
   "cell_type": "code",
   "execution_count": 10,
   "id": "a012a960",
   "metadata": {
    "scrolled": true
   },
   "outputs": [
    {
     "name": "stdout",
     "output_type": "stream",
     "text": [
      "<class 'numpy.ndarray'>\n",
      "<class 'numpy.ndarray'>\n",
      "(1338, 1)\n",
      "(1338, 1)\n"
     ]
    }
   ],
   "source": [
    "x = med_charges[\"age\"]\n",
    "y = med_charges[\"charges\"]\n",
    "x = x.values.reshape(-1, 1)\n",
    "y = y.values.reshape(-1, 1)\n",
    "print(type(x))\n",
    "print(type(y))\n",
    "print(x.shape)\n",
    "print(y.shape)"
   ]
  },
  {
   "cell_type": "markdown",
   "id": "08424490",
   "metadata": {},
   "source": [
    "**Using the holdout method to evaluate**\n",
    "\n",
    "Q8. Use [sklearn.model_selection.train_test_split](https://scikit-learn.org/stable/modules/generated/sklearn.model_selection.train_test_split.html) to split your dataset into training and test sets. Do an 80%-20% split. Display how many records are in the training set and how many are in the test set. Set the `random_state` argument to your favorite number."
   ]
  },
  {
   "cell_type": "code",
   "execution_count": 11,
   "id": "e9c24d71",
   "metadata": {
    "scrolled": true
   },
   "outputs": [
    {
     "name": "stdout",
     "output_type": "stream",
     "text": [
      "1070\n",
      "268\n",
      "1070\n",
      "268\n"
     ]
    }
   ],
   "source": [
    "from sklearn.model_selection import train_test_split\n",
    "\n",
    "x_train, x_test, y_train, y_test = train_test_split(x, y, test_size=0.20, random_state=45)\n",
    "print(len(x_train))\n",
    "print(len(x_test))\n",
    "print(len(y_train))\n",
    "print(len(y_test))"
   ]
  },
  {
   "cell_type": "markdown",
   "id": "cffda89c",
   "metadata": {},
   "source": [
    "Q9. Fit a simple linear regression model to the x and y data. This computes the B0 and B1 coefficients.\n",
    "* Create a [sklearn.linear_model.LinearRegression](https://scikit-learn.org/stable/modules/generated/sklearn.linear_model.LinearRegression.html) object. \n",
    "* Call `fit` on it and pass in the training set.\n",
    "* Print the slope and the intercept of the equation with the `.coef_` and `.intercept_` attributes. "
   ]
  },
  {
   "cell_type": "code",
   "execution_count": 12,
   "id": "caa8b841",
   "metadata": {},
   "outputs": [
    {
     "name": "stdout",
     "output_type": "stream",
     "text": [
      "[[255.82312457]]\n",
      "[3373.12368249]\n"
     ]
    }
   ],
   "source": [
    "from sklearn.linear_model import LinearRegression\n",
    "\n",
    "lin_reg = LinearRegression()\n",
    "lin_reg.fit(x_train, y_train)\n",
    "print(lin_reg.coef_)\n",
    "print(lin_reg.intercept_)"
   ]
  },
  {
   "cell_type": "markdown",
   "id": "c0695225",
   "metadata": {},
   "source": [
    "Q10. Now that you've fit the model on the training set, you can evaluate it on the test set. Call `predict` on the linear regression object and pass in the test set. Save the return value - these are all of the predicted values under the model for the test set. \n",
    "\n",
    "Compute some metrics to see how well this model fits the test data. Use `sklearn.metrics` to print out the MAE, MSE, RMSE, and R2 for the test set under this model. Remember that you have the actual y values for your test set, up in Q8.  "
   ]
  },
  {
   "cell_type": "code",
   "execution_count": 13,
   "id": "fe8b56fd",
   "metadata": {},
   "outputs": [
    {
     "name": "stdout",
     "output_type": "stream",
     "text": [
      "8545.119868302234 116281233.25392485 10783.37763661854 0.10150400248747538\n"
     ]
    }
   ],
   "source": [
    "import sklearn.metrics as metrics\n",
    "y_predicted = lin_reg.predict(x_test)\n",
    "mae = metrics.mean_absolute_error(y_test, y_predicted)\n",
    "mse = metrics.mean_squared_error(y_test, y_predicted)\n",
    "rmse = metrics.root_mean_squared_error(y_test, y_predicted)\n",
    "r2 = metrics.r2_score(y_test, y_predicted)\n",
    "print(mae, mse, rmse, r2)"
   ]
  },
  {
   "cell_type": "markdown",
   "id": "cb8c799f",
   "metadata": {},
   "source": [
    "Q11. Let's see what the best fit line looks like with the test data. Scatter-plot the test data (x_test, y_test). Then line-plot the model predictions for the test data (x_test, y_test_preds). "
   ]
  },
  {
   "cell_type": "code",
   "execution_count": 14,
   "id": "2b64976f",
   "metadata": {},
   "outputs": [
    {
     "data": {
      "image/png": "[encoded data removed]",
      "text/plain": [
       "<Figure size 640x480 with 1 Axes>"
      ]
     },
     "metadata": {},
     "output_type": "display_data"
    }
   ],
   "source": [
    "plt.scatter(x_test, y_test)\n",
    "plt.plot(x_test, y_predicted)\n",
    "plt.xlabel(\"Age\")\n",
    "plt.ylabel(\"Charges\")\n",
    "plt.title(\"Age vs. Charges (w/ prediction)\")\n",
    "plt.show()\n"
   ]
  },
  {
   "cell_type": "markdown",
   "id": "308eb6bf",
   "metadata": {},
   "source": [
    "Q12. Now, go back up to your Q8, change the random_state to a different number, and re-run Q9, Q10, Q11. \n",
    "\n",
    "Answer as a comment: What happened and why?"
   ]
  },
  {
   "cell_type": "code",
   "execution_count": 15,
   "id": "82a24492",
   "metadata": {},
   "outputs": [],
   "source": [
    "# The line moved a little bit, and the data corr_coeff almost doubled (I changed rand_state from 11 to 23, r^2 went from .06 to .12)\n",
    "# A different data set was generated for test and for training, it is possible the training data set aligns more with\n",
    "# the test data now, which is why all my errors decreased and my corr_coeff nearly doubled.\n",
    "# I tested this again by changing the number from 23 to 45, and now the corr_coeff decreased as I guess this generation set\n",
    "# has a training and test set that do not align with each other as well"
   ]
  },
  {
   "cell_type": "markdown",
   "id": "99d04b36",
   "metadata": {},
   "source": [
    "**Using cross-validation to evaluate**\n",
    "\n",
    "Q13. We've discussed and seen the issues that can happen when we do a single hold-out test set. Cross validation is a better, more robust way to evaluate our models. Use `sklearn.model_selection.cross_val_score` to perform 5-fold cross validation on a simple linear regression model. \n",
    "\n",
    "You will pass the FULL dataset (x and y from before the train/test split in Q8) into `cross_val_score` which will automatically divide it into the number of folds you tell it to, fit a linear regression model to the training set for each fold, and test it on the test set for each fold. It will return a numpy array with the R2 on the test set for each fold. Average these R2 scores to print out the generalization estimate of the model.\n",
    "\n",
    "On average, after 5 trials with 5 different test sets, this is how well we think a linear regression of using `age` to predict `charges` will work. "
   ]
  },
  {
   "cell_type": "code",
   "execution_count": 16,
   "id": "c5b417e6",
   "metadata": {},
   "outputs": [
    {
     "name": "stdout",
     "output_type": "stream",
     "text": [
      "0.08821241573294034\n"
     ]
    }
   ],
   "source": [
    "from sklearn.model_selection import cross_val_score\n",
    "performance = cross_val_score(lin_reg, x, y, cv=5, scoring=\"r2\")\n",
    "avg_r2 = np.mean(performance)\n",
    "print(avg_r2)"
   ]
  },
  {
   "cell_type": "markdown",
   "id": "eed2a22c",
   "metadata": {},
   "source": [
    "#### Multiple Linear Regression\n",
    "**Fit a multiple linear regression model to predict `charges` from more than one feature.**"
   ]
  },
  {
   "cell_type": "markdown",
   "id": "2b3b2aa1",
   "metadata": {},
   "source": [
    "Q14. Now let's see if we can get a better model by including another feature.\n",
    "* From the one-hot-encoded dataframe (the result of Q3), grab both the `age` and `smoker_yes` columns. Call it something like x. \n",
    "* (No need to call a reshape this time, since it is multi-dimensional data now.)\n",
    "* You already have the y's.\n",
    "* Create a new `sklearn.linear_model.LinearRegression` object. (Or you can re-use the one you already have.)\n",
    "* Pass it all into a `sklearn.model_selection.cross_val_score` with a 5-fold CV.\n",
    "* Print out the average R2.\n",
    "\n",
    "Answer as a comment: What happens when you include `smoker_yes`?"
   ]
  },
  {
   "cell_type": "code",
   "execution_count": 17,
   "id": "6c1db535",
   "metadata": {},
   "outputs": [
    {
     "name": "stdout",
     "output_type": "stream",
     "text": [
      "0.7191692504028052\n"
     ]
    }
   ],
   "source": [
    "x = med_charges[[\"age\", \"smoker_yes\"]]\n",
    "new_reg = LinearRegression()\n",
    "new_performance = cross_val_score(new_reg, x, y, cv=5, scoring=\"r2\")\n",
    "new_avg_r2 = np.mean(new_performance)\n",
    "print(new_avg_r2)\n",
    "\n",
    "# Including smoker_yes significantly improves the accuracy of the model (almost tenfold)\n",
    "# No suprises here, the corr() function returned a strong relation between smoking and the charges by a consumer\n"
   ]
  },
  {
   "cell_type": "markdown",
   "id": "e7bdb411",
   "metadata": {},
   "source": [
    "Q15. Let's go one more step and see if including ALL of our features is even better at predicting the `charges` than using just `age` and `smoker`.\n",
    "\n",
    "* From the one-hot-encoded dataframe (the result of Q3), grab all the features, but NOT the target. Call it something like x.\n",
    "* (No need to call a reshape this time, since it is multi-dimensional data now.)\n",
    "* You already have the y's.\n",
    "* Create a new sklearn.linear_model.LinearRegression object. (Or you can re-use the one you already have.)\n",
    "* Pass it all into a sklearn.model_selection.cross_val_score with a 5-fold CV.\n",
    "* Print out the average R2.\n",
    "\n",
    "Answer as a comment: What happens when you use ALL of the features?"
   ]
  },
  {
   "cell_type": "code",
   "execution_count": 18,
   "id": "4dbef0e5",
   "metadata": {
    "scrolled": true
   },
   "outputs": [
    {
     "name": "stdout",
     "output_type": "stream",
     "text": [
      "0.746861624347374\n"
     ]
    }
   ],
   "source": [
    "x = med_charges.drop(columns=[\"charges\"])\n",
    "newer_reg = LinearRegression()\n",
    "newer_perf = cross_val_score(newer_reg, x, y, cv=5, scoring=\"r2\")\n",
    "newer_avg_r2 = np.mean(newer_perf)\n",
    "print(newer_avg_r2)\n",
    "\n",
    "# Model accuracy increases a little bit more when we use all the features, but not nearly as much as the jump between just age and age + smokers."
   ]
  },
  {
   "cell_type": "markdown",
   "id": "f3c60daf",
   "metadata": {},
   "source": [
    "Q16. Build the final model on the entire dataset. \n",
    "* You should already have your x from the previous question (Q15).\n",
    "* You already have the y's.\n",
    "* Create a new `sklearn.linear_model.LinearRegression` object, or you can re-use the one you already have.\n",
    "* Call `fit` and pass in all the data (x, y).\n",
    "* Print out the coefficients and the intercept of the fitted model. The coefficients correspond to the the order in which the features are in the dataframe (x).\n",
    "\n",
    "This defines your multiple linear regression equation! "
   ]
  },
  {
   "cell_type": "code",
   "execution_count": 19,
   "id": "03cfb422",
   "metadata": {
    "scrolled": true
   },
   "outputs": [
    {
     "name": "stdout",
     "output_type": "stream",
     "text": [
      "Final coefs: [[  256.85635254   339.19345361   475.50054515  -131.3143594\n",
      "  23848.53454191   587.00923503   234.0453356   -448.01281436\n",
      "   -373.04175627]]\n",
      "Final intercept: [-12525.5478112]\n"
     ]
    }
   ],
   "source": [
    "final_reg = LinearRegression()\n",
    "final_reg.fit(x, y)\n",
    "print(f\"Final coefs: {final_reg.coef_}\")\n",
    "print(f\"Final intercept: {final_reg.intercept_}\")"
   ]
  },
  {
   "cell_type": "markdown",
   "id": "3cbe6072-cb1f-4ebf-8116-1073143e9090",
   "metadata": {},
   "source": [
    "#### Regularization / Hyperparameter tuning to prevent overfitting\n",
    "**Use a Ridge Regression model to predict `charges`. Tune the penalty strength (lambda) to avoid both over and under fitting.**"
   ]
  },
  {
   "cell_type": "markdown",
   "id": "62c72dcc-bc33-47fb-b609-44074e47ca4c",
   "metadata": {},
   "source": [
    "Q17. Now let's look at a model that includes a regularization hyperparameter to control for over and under fitting. \n",
    "\n",
    "* Data must be scaled for Ridge Regularization because of the L2 penalty term. Use `sklearn.preprocessing.StandardScaler` to scale the x data (`fit_transform`).\n",
    "* **NOTE:** Typically you should not scale the entire dataset upfront like this! Scaling should be done inside the cross validation loop to avoid data leakage! But for simplicity's sake on this assignment, go ahead and scale the data upfront here. On the next assignment, you'll see how to put the scaling inside of the cross validation loop.\n",
    "  \n",
    "* The `sklearn.linear_model.Ridge` package uses `alpha` as the regularization strength parameter (I referred to this as **lambda** in class.) Create two new `sklearn.linear_model.Ridge` objects. Set the alpha of one of them to 5 and set the alpha of the other one to 50.\n",
    "* Use `cross_val_score` to evaluate both models and print out their average R2.\n",
    "* Answer as a comment: How do these two models compare? What happens as lambda gets higher and why?\n"
   ]
  },
  {
   "cell_type": "code",
   "execution_count": 20,
   "id": "2e089dc8-faeb-464b-942a-2a67e0318327",
   "metadata": {},
   "outputs": [
    {
     "name": "stdout",
     "output_type": "stream",
     "text": [
      "Ridge alpha 5: 0.7468814115344922\n",
      "Ridge alpha 50: 0.7456619076114526\n"
     ]
    }
   ],
   "source": [
    "from sklearn.preprocessing import StandardScaler\n",
    "from sklearn.linear_model import Ridge\n",
    "\n",
    "scaler = StandardScaler()\n",
    "x_scaled = scaler.fit_transform(x)\n",
    "r5 = Ridge(5)\n",
    "r50 = Ridge(50)\n",
    "\n",
    "r2_ridge5 = cross_val_score(r5, x_scaled, y, cv=5, scoring=\"r2\")\n",
    "r2_ridge50 = cross_val_score(r50, x_scaled, y, cv=5, scoring=\"r2\")\n",
    "\n",
    "avg_r2_r5 = np.mean(r2_ridge5)\n",
    "avg_r2_r50 = np.mean(r2_ridge50)\n",
    "\n",
    "print(f\"Ridge alpha 5: {avg_r2_r5}\")\n",
    "print(f\"Ridge alpha 50: {avg_r2_r50}\")\n",
    "\n",
    "# As you crank alpha up, the regularization becomes stronger. 50 seems to be too high as the data starts becoming underfit by a tiny bit (small decrease in r2)."
   ]
  },
  {
   "cell_type": "markdown",
   "id": "43831466-8464-4be4-bb98-f2d04106bfdf",
   "metadata": {},
   "source": [
    "Q18. Let's see how we can tune alpha (lambda) with cross validation. \n",
    "\n",
    "Inner cross validation loop / hyperparameter tuning:\n",
    "\n",
    "* Create a new `sklearn.linear_model.Ridge` object. Do not set alpha.\n",
    "* I have created a \"parameter grid\" (`param_grid`) for you. This is simply a list of values that you want to try setting the hyperparameter (`alpha`) to. You'll see that it includes some values less than 1 and some values greater than 1. This is good range for hyperparameter tuning in Ridge Regression because it ensures that tested alpha/lambda values cover a wide range, from very small (little regularization) to very large (strong regularization), allowing the model to find an optimal balance between under and over fitting.\n",
    "* For the hyperparameter tuning cross validation loop, we'll use `sklearn.model_selection.GridSearchCV` (an alternative to this would be `sklearn.model_selection.RandomizedSearchCV`.) Create a `sklearn.model_selection.GridSearchCV` object, setting the estimator to your `Ridge` object, param_grid to the param_grid that is provided for you, and the number of CV folds to 5.\n",
    "\n",
    "Outer cross validation loop / evaluation:\n",
    "\n",
    "* Use `sklearn.model_selection.cross_val_score` with 5 folds for the outer cross validation loop. Pass into it the `GridSearchCV` you just created, the data (x), and the targets (y).\n",
    "\n",
    "What this does is: The cross_val_score splits the data in to train and test sets for the first outer fold, and it passes the train set into GridSearchCV. GridSearchCV then splits that set into train and validation sets for k number of folds (the inner CV loop). The hyper-parameters for which the average score over all inner iterations is best, is reported as the best_params_, best_score_, and best_estimator_(best regression coefficients). This best model is then evaluated with the test set from the cross_val_score (the outer CV loop). And this whole thing is repeated for the remaining k folds of the cross_val_score (the outer CV loop).\n",
    "\n",
    "This is the entire, very complex, very IMPORTANT, nested cross validation process happening within a single line of code!\n",
    "\n",
    "* Print out the average R2 over the 5 outer CV folds.\n",
    "* Answer as a comment: How does the Ridge Regression model compare to the ordinary Least Squares model on this data? "
   ]
  },
  {
   "cell_type": "code",
   "execution_count": 21,
   "id": "b59e8dac-637f-404f-839c-a0d7f74e15f5",
   "metadata": {},
   "outputs": [
    {
     "name": "stdout",
     "output_type": "stream",
     "text": [
      "0.7468329164665739\n"
     ]
    }
   ],
   "source": [
    "# Define hyperparameter grid\n",
    "from sklearn.model_selection import GridSearchCV\n",
    "param_grid = {'alpha': [0.01, 0.1, 1, 5, 10, 15]}\n",
    "new_ridge = Ridge()\n",
    "grid_search = GridSearchCV(new_ridge, param_grid, cv=5)\n",
    "ridge_final_r2 = cross_val_score(grid_search, x_scaled, y, cv=5, scoring=\"r2\")\n",
    "\n",
    "print(np.mean(ridge_final_r2))\n",
    "\n",
    "# The r2 is slightly smaller when compared to the LinReg, but I'm assuming that the Ridge Regression is better at avoiding overfitting to high correlation features"
   ]
  },
  {
   "cell_type": "markdown",
   "id": "c08d42fc",
   "metadata": {},
   "source": [
    "## ---------------------------------------- \n",
    "## Part 2: K-Nearest Neighbors from scratch\n",
    "\n",
    "In this part of the assignment you'll implement the K-Nearest Neighbors (KNN) classification algorithm to classify patients as either having or not having diabetic retinopathy. For this task we'll be using the same Diabetic Retinopathy data set which was used in the previous assignment on decision trees. "
   ]
  },
  {
   "cell_type": "markdown",
   "id": "f04ffa20",
   "metadata": {},
   "source": [
    "You may use the following function to print a confusion matrix:"
   ]
  },
  {
   "cell_type": "code",
   "execution_count": 22,
   "id": "acc4cd14",
   "metadata": {},
   "outputs": [],
   "source": [
    "def print_confusion_matrix(TP, FN, FP, TN):\n",
    "    \n",
    "    table_data = [[TP,FN],[FP,TN]]\n",
    "    df = pd.DataFrame(table_data, columns =['Predicted 1','Predicted 0'])\n",
    "    df = df.rename(index={0: 'Actual 1', 1: 'Actual 0'})\n",
    "    display(df)"
   ]
  },
  {
   "cell_type": "code",
   "execution_count": 23,
   "id": "4eb2b554",
   "metadata": {},
   "outputs": [],
   "source": [
    "# you may use these constants if you want\n",
    "LABEL_COLUMN = 19\n",
    "BINARY_COLUMNS = {0,1,18}"
   ]
  },
  {
   "cell_type": "markdown",
   "id": "7edf52cf",
   "metadata": {},
   "source": [
    "Q1. Normalize the data so that each feature value lies between `[0-1]`.\n",
    "\n",
    "In class, we talked about why scaling the data is critical to KNN. We also talked about how data scaling should be done *inside the cross validataion loop*. This means that the scaling parameters should be based on the **training set only**, in order to prevent data leakage. Then the test data will need to be scaled, using the parameters found on the **training** data.\n",
    "\n",
    "Fill in the function to take in a training dataset and a test dataset and normalize them correctly. Return the normalized datasets.\n",
    "\n",
    "Caution: Return NEW datasets that have been normalized - do not normalize the datasets in-place, so that this can be run numerous times without altering the original data or normalizing already normalized data.\n",
    "\n",
    "Hint: When using dataframes, you can do this without a loop!"
   ]
  },
  {
   "cell_type": "code",
   "execution_count": 24,
   "id": "f2521ea4",
   "metadata": {},
   "outputs": [],
   "source": [
    "def normalize_data(train, test):\n",
    "    train_min = train.min()\n",
    "    train_max = train.max()\n",
    "    train_norm = (train - train_min) / (train_max - train_min)\n",
    "    test_norm = (test - train_min) / (train_max - train_min)\n",
    "    return train_norm, test_norm"
   ]
  },
  {
   "cell_type": "markdown",
   "id": "acbcfd93",
   "metadata": {},
   "source": [
    "Q2. The distance calculation method is central to the KNN algorithm. In this assignment you'll be using the Euclidean distance. \n",
    "\n",
    "Implement a function that takes in one data point (as a list or a series), and the training data (as a dataframe), and calculates the Euclidian distance from the single data point to each of the data points in the training data.\n",
    "\n",
    "Add a column to the dataframe called `distance` that contains the Euclidian distance value from each row to the single data point, and return the dataframe with this new column filled in. \n",
    "\n",
    "\n",
    "Hint: For KNN, the distance calculations are the most time-consuming part of the algorithm. Even though computing Euclidian distance seems like a simple, and therefore quick, calculation, running it thousands of times, inside of a nested 5-fold cross-validation for example, can cause this algorithm to take a very long time to run, depending on your implementation. So you want to do this efficiently.\n",
    "\n",
    "Remember, you almost never need to loop a Dataframe! Pandas DataFrames have been specifically optimized for fast operations on large datasets, by [vectorizing](https://www.quantifisolutions.com/vectorization-part-2-why-and-what) calculations across all rows at once.\n",
    "\n",
    "You should not write a loop to calculate each of the Euclidian distances one at a time. Look at [this post](https://stackoverflow.com/questions/46908388/find-euclidean-distance-from-a-point-to-rows-in-pandas-dataframe?rq=1) for more info.\n",
    "\n",
    "Caution: Be careful not to use the label in your distance calculation."
   ]
  },
  {
   "cell_type": "code",
   "execution_count": 25,
   "id": "8568727f",
   "metadata": {},
   "outputs": [],
   "source": [
    "def get_distances(point, df):\n",
    "    df[\"distance\"] = (df.iloc[:, :LABEL_COLUMN] - np.array(point)).pow(2).sum(1).pow(.5)\n",
    "    return df\n"
   ]
  },
  {
   "cell_type": "markdown",
   "id": "3e91c9c3",
   "metadata": {},
   "source": [
    "Q3. Build your KNN classifier.\n",
    "\n",
    "This function takes in a training set (as a dataframe), a test set (as a dataframe), and a k to use, and classifies all data points in the test set, using the data in the training set and the given k.\n",
    "\n",
    "It should return the predicted labels for the test set as a list.\n",
    "\n",
    "Caution: Remember to normalize your data before doing distance calculations."
   ]
  },
  {
   "cell_type": "code",
   "execution_count": 26,
   "id": "6330af96",
   "metadata": {},
   "outputs": [],
   "source": [
    "def run_knn(train_set, test_set, k):\n",
    "\n",
    "    pred = []\n",
    "    train_norm, test_norm = normalize_data(train_set, test_set)\n",
    "\n",
    "    for i, row in test_norm.iterrows():\n",
    "        df = get_distances(row.iloc[:LABEL_COLUMN], train_norm)\n",
    "        sorted_df = df.sort_values(by=\"distance\", ascending=True)   \n",
    "        knn = sorted_df.head(k)\n",
    "        pred.append(knn.iloc[:, LABEL_COLUMN].value_counts().idxmax())\n",
    "\n",
    "    return pred"
   ]
  },
  {
   "cell_type": "markdown",
   "id": "b80cc7f6",
   "metadata": {},
   "source": [
    "Q4. Find the best value of k for this data. \n",
    "\n",
    "Try k ranging from 1 to 10 (odds only). For each k value, use a 5-fold cross validation to evaluate the accuracy with that k. In each fold of CV, divide your data into a training set and a validation set. Print out the best value of k and the accuracy achieved with that value. Return the best value of k. If there is a tie for best k, use the lowest of the k values.\n",
    "\n",
    "Hint: This is the *inner* loop of a nested cross validation."
   ]
  },
  {
   "cell_type": "code",
   "execution_count": 27,
   "id": "70de520e",
   "metadata": {},
   "outputs": [],
   "source": [
    "def find_best_k(data):\n",
    "    total_samples = len(data)\n",
    "    fold_size = total_samples // 5\n",
    "    best_k = 1\n",
    "    best_acc = 0\n",
    "\n",
    "    for k in range(1, 10, 2):\n",
    "        total_acc = 0\n",
    "        for fold in range(5):\n",
    "            i_0 = fold * fold_size\n",
    "            i_f = i_0 + fold_size\n",
    "            test_set = data.iloc[i_0:i_f]\n",
    "            train_set = data.drop(test_set.index)\n",
    "\n",
    "            pred = run_knn(train_set, test_set, k)\n",
    "            correct_preds = 0\n",
    "\n",
    "            for j in range(len(pred)):\n",
    "                if pred[j] == test_set.iloc[j, LABEL_COLUMN]:\n",
    "                    correct_preds += 1\n",
    "\n",
    "            fold_acc = correct_preds / len(pred)\n",
    "            total_acc += fold_acc\n",
    "\n",
    "        avg_acc = total_acc / 5\n",
    "        \n",
    "        if avg_acc > best_acc:\n",
    "            best_acc = avg_acc\n",
    "            best_k = k\n",
    "    print(f\"best k: {best_k}\")\n",
    "    return best_k\n"
   ]
  },
  {
   "cell_type": "markdown",
   "id": "5da24b15",
   "metadata": {},
   "source": [
    "Q5. Now measure the accuracy of your classifier using 5-fold cross validation. \n",
    "\n",
    "In each fold of this CV, divide your data into a training set and a test set. The training set should get sent through your code for Q4, resulting in a value of k to use. Using that k, calculate an accuracy on the test set. You will average the accuracy over all 5 folds to obtain the final accuracy measurement. \n",
    "\n",
    "**Return** the accuracy. And **print** the accuracy, the confusion matrix, and the precision and recall for class label 1 (patients that have been diagnosed with the disease)."
   ]
  },
  {
   "cell_type": "code",
   "execution_count": 28,
   "id": "8a77f17b",
   "metadata": {},
   "outputs": [
    {
     "name": "stdout",
     "output_type": "stream",
     "text": [
      "dataset size: (1150, 20)\n",
      "best k: 7\n",
      "Avg_acc: 0.12347826086956522\n"
     ]
    },
    {
     "data": {
      "text/html": [
       "<div>\n",
       "<style scoped>\n",
       "    .dataframe tbody tr th:only-of-type {\n",
       "        vertical-align: middle;\n",
       "    }\n",
       "\n",
       "    .dataframe tbody tr th {\n",
       "        vertical-align: top;\n",
       "    }\n",
       "\n",
       "    .dataframe thead th {\n",
       "        text-align: right;\n",
       "    }\n",
       "</style>\n",
       "<table border=\"1\" class=\"dataframe\">\n",
       "  <thead>\n",
       "    <tr style=\"text-align: right;\">\n",
       "      <th></th>\n",
       "      <th>Predicted 1</th>\n",
       "      <th>Predicted 0</th>\n",
       "    </tr>\n",
       "  </thead>\n",
       "  <tbody>\n",
       "    <tr>\n",
       "      <th>Actual 1</th>\n",
       "      <td>78</td>\n",
       "      <td>50</td>\n",
       "    </tr>\n",
       "    <tr>\n",
       "      <th>Actual 0</th>\n",
       "      <td>38</td>\n",
       "      <td>64</td>\n",
       "    </tr>\n",
       "  </tbody>\n",
       "</table>\n",
       "</div>"
      ],
      "text/plain": [
       "          Predicted 1  Predicted 0\n",
       "Actual 1           78           50\n",
       "Actual 0           38           64"
      ]
     },
     "metadata": {},
     "output_type": "display_data"
    },
    {
     "name": "stdout",
     "output_type": "stream",
     "text": [
      "precision: 0.6724137931034483\n",
      "recall: 0.609375\n",
      "\n",
      "Total time (seconds): 16.991044521331787\n",
      "best k: 5\n",
      "Avg_acc: 0.24782608695652175\n"
     ]
    },
    {
     "data": {
      "text/html": [
       "<div>\n",
       "<style scoped>\n",
       "    .dataframe tbody tr th:only-of-type {\n",
       "        vertical-align: middle;\n",
       "    }\n",
       "\n",
       "    .dataframe tbody tr th {\n",
       "        vertical-align: top;\n",
       "    }\n",
       "\n",
       "    .dataframe thead th {\n",
       "        text-align: right;\n",
       "    }\n",
       "</style>\n",
       "<table border=\"1\" class=\"dataframe\">\n",
       "  <thead>\n",
       "    <tr style=\"text-align: right;\">\n",
       "      <th></th>\n",
       "      <th>Predicted 1</th>\n",
       "      <th>Predicted 0</th>\n",
       "    </tr>\n",
       "  </thead>\n",
       "  <tbody>\n",
       "    <tr>\n",
       "      <th>Actual 1</th>\n",
       "      <td>145</td>\n",
       "      <td>106</td>\n",
       "    </tr>\n",
       "    <tr>\n",
       "      <th>Actual 0</th>\n",
       "      <td>69</td>\n",
       "      <td>140</td>\n",
       "    </tr>\n",
       "  </tbody>\n",
       "</table>\n",
       "</div>"
      ],
      "text/plain": [
       "          Predicted 1  Predicted 0\n",
       "Actual 1          145          106\n",
       "Actual 0           69          140"
      ]
     },
     "metadata": {},
     "output_type": "display_data"
    },
    {
     "name": "stdout",
     "output_type": "stream",
     "text": [
      "precision: 0.677570093457944\n",
      "recall: 0.5776892430278885\n",
      "\n",
      "Total time (seconds): 31.370874881744385\n",
      "best k: 9\n",
      "Avg_acc: 0.3765217391304348\n"
     ]
    },
    {
     "data": {
      "text/html": [
       "<div>\n",
       "<style scoped>\n",
       "    .dataframe tbody tr th:only-of-type {\n",
       "        vertical-align: middle;\n",
       "    }\n",
       "\n",
       "    .dataframe tbody tr th {\n",
       "        vertical-align: top;\n",
       "    }\n",
       "\n",
       "    .dataframe thead th {\n",
       "        text-align: right;\n",
       "    }\n",
       "</style>\n",
       "<table border=\"1\" class=\"dataframe\">\n",
       "  <thead>\n",
       "    <tr style=\"text-align: right;\">\n",
       "      <th></th>\n",
       "      <th>Predicted 1</th>\n",
       "      <th>Predicted 0</th>\n",
       "    </tr>\n",
       "  </thead>\n",
       "  <tbody>\n",
       "    <tr>\n",
       "      <th>Actual 1</th>\n",
       "      <td>216</td>\n",
       "      <td>155</td>\n",
       "    </tr>\n",
       "    <tr>\n",
       "      <th>Actual 0</th>\n",
       "      <td>102</td>\n",
       "      <td>217</td>\n",
       "    </tr>\n",
       "  </tbody>\n",
       "</table>\n",
       "</div>"
      ],
      "text/plain": [
       "          Predicted 1  Predicted 0\n",
       "Actual 1          216          155\n",
       "Actual 0          102          217"
      ]
     },
     "metadata": {},
     "output_type": "display_data"
    },
    {
     "name": "stdout",
     "output_type": "stream",
     "text": [
      "precision: 0.6792452830188679\n",
      "recall: 0.5822102425876011\n",
      "\n",
      "Total time (seconds): 44.873515605926514\n",
      "best k: 9\n",
      "Avg_acc: 0.4956521739130435\n"
     ]
    },
    {
     "data": {
      "text/html": [
       "<div>\n",
       "<style scoped>\n",
       "    .dataframe tbody tr th:only-of-type {\n",
       "        vertical-align: middle;\n",
       "    }\n",
       "\n",
       "    .dataframe tbody tr th {\n",
       "        vertical-align: top;\n",
       "    }\n",
       "\n",
       "    .dataframe thead th {\n",
       "        text-align: right;\n",
       "    }\n",
       "</style>\n",
       "<table border=\"1\" class=\"dataframe\">\n",
       "  <thead>\n",
       "    <tr style=\"text-align: right;\">\n",
       "      <th></th>\n",
       "      <th>Predicted 1</th>\n",
       "      <th>Predicted 0</th>\n",
       "    </tr>\n",
       "  </thead>\n",
       "  <tbody>\n",
       "    <tr>\n",
       "      <th>Actual 1</th>\n",
       "      <td>285</td>\n",
       "      <td>210</td>\n",
       "    </tr>\n",
       "    <tr>\n",
       "      <th>Actual 0</th>\n",
       "      <td>140</td>\n",
       "      <td>285</td>\n",
       "    </tr>\n",
       "  </tbody>\n",
       "</table>\n",
       "</div>"
      ],
      "text/plain": [
       "          Predicted 1  Predicted 0\n",
       "Actual 1          285          210\n",
       "Actual 0          140          285"
      ]
     },
     "metadata": {},
     "output_type": "display_data"
    },
    {
     "name": "stdout",
     "output_type": "stream",
     "text": [
      "precision: 0.6705882352941176\n",
      "recall: 0.5757575757575758\n",
      "\n",
      "Total time (seconds): 59.82199287414551\n",
      "best k: 5\n",
      "Avg_acc: 0.6208695652173913\n"
     ]
    },
    {
     "data": {
      "text/html": [
       "<div>\n",
       "<style scoped>\n",
       "    .dataframe tbody tr th:only-of-type {\n",
       "        vertical-align: middle;\n",
       "    }\n",
       "\n",
       "    .dataframe tbody tr th {\n",
       "        vertical-align: top;\n",
       "    }\n",
       "\n",
       "    .dataframe thead th {\n",
       "        text-align: right;\n",
       "    }\n",
       "</style>\n",
       "<table border=\"1\" class=\"dataframe\">\n",
       "  <thead>\n",
       "    <tr style=\"text-align: right;\">\n",
       "      <th></th>\n",
       "      <th>Predicted 1</th>\n",
       "      <th>Predicted 0</th>\n",
       "    </tr>\n",
       "  </thead>\n",
       "  <tbody>\n",
       "    <tr>\n",
       "      <th>Actual 1</th>\n",
       "      <td>363</td>\n",
       "      <td>248</td>\n",
       "    </tr>\n",
       "    <tr>\n",
       "      <th>Actual 0</th>\n",
       "      <td>188</td>\n",
       "      <td>351</td>\n",
       "    </tr>\n",
       "  </tbody>\n",
       "</table>\n",
       "</div>"
      ],
      "text/plain": [
       "          Predicted 1  Predicted 0\n",
       "Actual 1          363          248\n",
       "Actual 0          188          351"
      ]
     },
     "metadata": {},
     "output_type": "display_data"
    },
    {
     "name": "stdout",
     "output_type": "stream",
     "text": [
      "precision: 0.6588021778584392\n",
      "recall: 0.5941080196399345\n",
      "\n",
      "Total time (seconds): 73.57649755477905\n"
     ]
    }
   ],
   "source": [
    "import time\n",
    "import pandas as pd\n",
    "def calc_acc(pred, labels):\n",
    "    acc = 0\n",
    "    for i in range(len(pred)):\n",
    "        if pred[i] == labels[i]:\n",
    "            acc += 1\n",
    "    return acc / len(pred)\n",
    "\n",
    "\n",
    "def run_CV(filename):\n",
    "    # read in data\n",
    "    data = pd.read_csv(filename, header = None)\n",
    "    print(\"dataset size:\", data.shape)\n",
    "\n",
    "    start_time = time.time()\n",
    "    num_folds = 5\n",
    "    avg_acc = 0\n",
    "    TP, TN, FP, FN = 0, 0, 0, 0\n",
    "\n",
    "    for fold in range(num_folds):\n",
    "        result = [0, 0, 0, 0]\n",
    "        size = len(data) // num_folds\n",
    "        start = fold * size\n",
    "        end = (fold + 1) * size\n",
    "        if fold == num_folds - 1:\n",
    "            end = len(data)\n",
    "\n",
    "        test = data.iloc[start:end, :]\n",
    "        train = pd.concat([data.iloc[0:start, :], data.iloc[end:, :]])\n",
    "        best_k = find_best_k(train)\n",
    "        pred_labels = run_knn(train, test, best_k)\n",
    "        label_list = list(test[LABEL_COLUMN])\n",
    "        avg_acc += calc_acc(pred_labels, label_list) / num_folds\n",
    "\n",
    "        for i in range(len(pred_labels)):\n",
    "            if pred_labels[i] == 1 and label_list[i] == 1:\n",
    "                TP += 1\n",
    "            elif pred_labels[i] == 1 and label_list[i] == 0:\n",
    "                FP += 1\n",
    "            elif pred_labels[i] == 0 and label_list[i] == 1:\n",
    "                FN += 1\n",
    "            else:\n",
    "                TN += 1\n",
    "\n",
    "        print(f\"Avg_acc: {avg_acc}\")\n",
    "        print_confusion_matrix(TP, FN, FP, TN)\n",
    "\n",
    "        precision = TP / (TP + FP)\n",
    "        recall = TP / (TP + FN)\n",
    "        print(f\"precision: {precision}\")\n",
    "        print(f\"recall: {recall}\")\n",
    "\n",
    "        end_time = time.time()\n",
    "        print(\"\\nTotal time (seconds):\", end_time - start_time)\n",
    "\n",
    "run_CV('messidor_features.txt')"
   ]
  },
  {
   "cell_type": "markdown",
   "id": "1c9a8e69-76e2-45f2-a6df-ae0c099f4831",
   "metadata": {},
   "source": [
    "Q6. Build the final model.\n",
    "\n",
    "Assume the accuracy you are getting is sufficient for the task. Now build the final model. Return the k value for the final model. "
   ]
  },
  {
   "cell_type": "code",
   "execution_count": 29,
   "id": "732f91a0-83c9-4500-b46c-16b631d89678",
   "metadata": {},
   "outputs": [
    {
     "name": "stdout",
     "output_type": "stream",
     "text": [
      "best k: 7\n",
      "Final model will use k= 7\n"
     ]
    }
   ],
   "source": [
    "def final_model(filename):\n",
    "    # read in data\n",
    "    data = pd.read_csv(filename, header = None)\n",
    "    k = find_best_k(data)\n",
    "    return k\n",
    "    \n",
    "k = final_model('messidor_features.txt')\n",
    "print(\"Final model will use k=\", k)"
   ]
  }
 ],
 "metadata": {
  "kernelspec": {
   "display_name": "Python 3",
   "language": "python",
   "name": "python3"
  },
  "language_info": {
   "codemirror_mode": {
    "name": "ipython",
    "version": 3
   },
   "file_extension": ".py",
   "mimetype": "text/x-python",
   "name": "python",
   "nbconvert_exporter": "python",
   "pygments_lexer": "ipython3",
   "version": "3.11.5"
  }
 },
 "nbformat": 4,
 "nbformat_minor": 5
}
